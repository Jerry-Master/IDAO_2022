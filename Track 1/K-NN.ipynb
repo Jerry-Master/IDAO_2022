{
 "cells": [
  {
   "cell_type": "code",
   "execution_count": 1,
   "id": "65160362",
   "metadata": {},
   "outputs": [],
   "source": [
    "import numpy as np\n",
    "import pandas as pd\n",
    "import matplotlib.pyplot as plt\n",
    "import os"
   ]
  },
  {
   "cell_type": "code",
   "execution_count": 6,
   "id": "df81b421",
   "metadata": {},
   "outputs": [],
   "source": [
    "filepath_train = '../Data/dichalcogenides_public/'\n",
    "filepath_test = '../Data/dichalcogenides_private/'\n",
    "\n",
    "targets = pd.read_csv(filepath_train + 'targets.csv', index_col=0)\n",
    "train_files = os.listdir(filepath_train + 'images/')\n",
    "test_files = os.listdir(filepath_test + 'images/')"
   ]
  },
  {
   "cell_type": "code",
   "execution_count": 33,
   "id": "f6590c25",
   "metadata": {},
   "outputs": [],
   "source": [
    "dist_files = os.listdir(filepath_train + 'distances/')\n",
    "dist_matrix = pd.DataFrame()\n",
    "for file in dist_files:\n",
    "    dists = pd.read_csv(filepath_train + 'distances/' + file, index_col=0)\n",
    "    dists.columns = [file[:-4]]\n",
    "    dists.index = dists.index.map(lambda x: x[:-5])\n",
    "    dist_matrix = pd.concat((dist_matrix, dists), axis=1)"
   ]
  },
  {
   "cell_type": "code",
   "execution_count": 175,
   "id": "0326aafa",
   "metadata": {},
   "outputs": [],
   "source": [
    "predict = []\n",
    "k = 100\n",
    "for file in dist_files:\n",
    "    idx = file[:-4]\n",
    "    dist = dist_matrix.loc[idx]\n",
    "    dist[dist==0] = 1000\n",
    "    dist = dist.sort_values()\n",
    "    neighs = dist[:k].index\n",
    "    x = targets.loc[neighs].band_gap\n",
    "    x = sorted(x)\n",
    "    for i in range(len(x)-1):\n",
    "        if x[i+1] - x[i]  < 0.02:\n",
    "            x[i+1] = x[i]\n",
    "    x = pd.Series(x)\n",
    "    predict.append(x.mode().median())\n",
    "predictions = pd.DataFrame(data={'band_gap': predict}, index=dist_matrix.columns)"
   ]
  },
  {
   "cell_type": "code",
   "execution_count": 179,
   "id": "d55b5106",
   "metadata": {},
   "outputs": [
    {
     "data": {
      "text/plain": [
       "abs_err    0.68722\n",
       "dtype: float64"
      ]
     },
     "execution_count": 179,
     "metadata": {},
     "output_type": "execute_result"
    }
   ],
   "source": [
    "IDs = dist_matrix.columns\n",
    "ae = np.abs(predictions - targets.loc[IDs])\n",
    "ae.columns = ['abs_err']\n",
    "(ae < 0.02).sum() / len(predictions)"
   ]
  },
  {
   "cell_type": "code",
   "execution_count": 203,
   "id": "7101854f",
   "metadata": {},
   "outputs": [],
   "source": [
    "wrong = np.array(ae.index[(ae>0.02).abs_err])"
   ]
  },
  {
   "cell_type": "code",
   "execution_count": 229,
   "id": "78c23796",
   "metadata": {},
   "outputs": [
    {
     "data": {
      "text/plain": [
       "0.8136200716845878"
      ]
     },
     "execution_count": 229,
     "metadata": {},
     "output_type": "execute_result"
    }
   ],
   "source": [
    "len(targets.loc[wrong].index[(targets.loc[wrong]<0.75).band_gap]) / len(wrong)"
   ]
  },
  {
   "cell_type": "code",
   "execution_count": 208,
   "id": "b5ee7af5",
   "metadata": {},
   "outputs": [],
   "source": [
    "def abline(slope, intercept):\n",
    "    \"\"\"Plot a line from slope and intercept\"\"\"\n",
    "    axes = plt.gca()\n",
    "    x_vals = np.array(axes.get_xlim())\n",
    "    y_vals = intercept + slope * x_vals\n",
    "    plt.plot(x_vals, y_vals, '--')\n",
    "\n",
    "def plot_dist(idx):\n",
    "    X  = dist_matrix.loc[idx]\n",
    "    IDs = dist_matrix.columns\n",
    "    Y = np.abs(targets.loc[IDs]- targets.loc[idx])\n",
    "    X[X==1000] = 0\n",
    "    plt.scatter(X.to_numpy(), Y.to_numpy(), s=0.8)\n",
    "    abline(0, 0.02)\n",
    "    plt.show()"
   ]
  },
  {
   "cell_type": "code",
   "execution_count": 216,
   "id": "96c9dbe1",
   "metadata": {},
   "outputs": [
    {
     "data": {
      "image/png": "[encoded data removed]",
      "text/plain": [
       "<Figure size 432x288 with 1 Axes>"
      ]
     },
     "metadata": {
      "needs_background": "light"
     },
     "output_type": "display_data"
    },
    {
     "name": "stdout",
     "output_type": "stream",
     "text": [
      "Target: 0.2782\n"
     ]
    }
   ],
   "source": [
    "i = 5\n",
    "plot_dist(wrong[i])\n",
    "print('Target:', targets.loc[wrong[i]].band_gap)"
   ]
  },
  {
   "cell_type": "code",
   "execution_count": 63,
   "id": "509212e0",
   "metadata": {},
   "outputs": [
    {
     "name": "stdout",
     "output_type": "stream",
     "text": [
      "6141e8d5baaf234b35290490\n",
      "6141d510baaf234b35290316\n",
      "269\n"
     ]
    }
   ],
   "source": [
    "idx = dist_files[3][:-4]\n",
    "dist = dist_matrix.loc[idx]\n",
    "#dist[dist==0] = 1000\n",
    "print(dist.index[dist.argmin()])\n",
    "print(idx)\n",
    "print(dist.argmin())"
   ]
  },
  {
   "cell_type": "code",
   "execution_count": 41,
   "id": "0ab687a3",
   "metadata": {
    "scrolled": true
   },
   "outputs": [
    {
     "ename": "NotFittedError",
     "evalue": "This KNeighborsRegressor instance is not fitted yet. Call 'fit' with appropriate arguments before using this estimator.",
     "output_type": "error",
     "traceback": [
      "\u001b[0;31m---------------------------------------------------------------------------\u001b[0m",
      "\u001b[0;31mNotFittedError\u001b[0m                            Traceback (most recent call last)",
      "Input \u001b[0;32mIn [41]\u001b[0m, in \u001b[0;36m<module>\u001b[0;34m\u001b[0m\n\u001b[1;32m      5\u001b[0m neigh \u001b[38;5;241m=\u001b[39m KNeighborsRegressor(n_neighbors\u001b[38;5;241m=\u001b[39m\u001b[38;5;241m1\u001b[39m, metric\u001b[38;5;241m=\u001b[39m\u001b[38;5;124m'\u001b[39m\u001b[38;5;124mprecomputed\u001b[39m\u001b[38;5;124m'\u001b[39m)\n\u001b[1;32m      6\u001b[0m \u001b[38;5;66;03m#neigh.fit(???)\u001b[39;00m\n\u001b[0;32m----> 7\u001b[0m \u001b[43mneigh\u001b[49m\u001b[38;5;241;43m.\u001b[39;49m\u001b[43mpredict\u001b[49m\u001b[43m(\u001b[49m\u001b[43mX_test\u001b[49m\u001b[43m)\u001b[49m\n",
      "File \u001b[0;32m~/Desktop/IDAO_2022/crystal/lib/python3.9/site-packages/sklearn/neighbors/_regression.py:229\u001b[0m, in \u001b[0;36mKNeighborsRegressor.predict\u001b[0;34m(self, X)\u001b[0m\n\u001b[1;32m    215\u001b[0m \u001b[38;5;28;01mdef\u001b[39;00m \u001b[38;5;21mpredict\u001b[39m(\u001b[38;5;28mself\u001b[39m, X):\n\u001b[1;32m    216\u001b[0m     \u001b[38;5;124;03m\"\"\"Predict the target for the provided data.\u001b[39;00m\n\u001b[1;32m    217\u001b[0m \n\u001b[1;32m    218\u001b[0m \u001b[38;5;124;03m    Parameters\u001b[39;00m\n\u001b[0;32m   (...)\u001b[0m\n\u001b[1;32m    227\u001b[0m \u001b[38;5;124;03m        Target values.\u001b[39;00m\n\u001b[1;32m    228\u001b[0m \u001b[38;5;124;03m    \"\"\"\u001b[39;00m\n\u001b[0;32m--> 229\u001b[0m     neigh_dist, neigh_ind \u001b[38;5;241m=\u001b[39m \u001b[38;5;28;43mself\u001b[39;49m\u001b[38;5;241;43m.\u001b[39;49m\u001b[43mkneighbors\u001b[49m\u001b[43m(\u001b[49m\u001b[43mX\u001b[49m\u001b[43m)\u001b[49m\n\u001b[1;32m    231\u001b[0m     weights \u001b[38;5;241m=\u001b[39m _get_weights(neigh_dist, \u001b[38;5;28mself\u001b[39m\u001b[38;5;241m.\u001b[39mweights)\n\u001b[1;32m    233\u001b[0m     _y \u001b[38;5;241m=\u001b[39m \u001b[38;5;28mself\u001b[39m\u001b[38;5;241m.\u001b[39m_y\n",
      "File \u001b[0;32m~/Desktop/IDAO_2022/crystal/lib/python3.9/site-packages/sklearn/neighbors/_base.py:700\u001b[0m, in \u001b[0;36mKNeighborsMixin.kneighbors\u001b[0;34m(self, X, n_neighbors, return_distance)\u001b[0m\n\u001b[1;32m    647\u001b[0m \u001b[38;5;28;01mdef\u001b[39;00m \u001b[38;5;21mkneighbors\u001b[39m(\u001b[38;5;28mself\u001b[39m, X\u001b[38;5;241m=\u001b[39m\u001b[38;5;28;01mNone\u001b[39;00m, n_neighbors\u001b[38;5;241m=\u001b[39m\u001b[38;5;28;01mNone\u001b[39;00m, return_distance\u001b[38;5;241m=\u001b[39m\u001b[38;5;28;01mTrue\u001b[39;00m):\n\u001b[1;32m    648\u001b[0m     \u001b[38;5;124;03m\"\"\"Find the K-neighbors of a point.\u001b[39;00m\n\u001b[1;32m    649\u001b[0m \n\u001b[1;32m    650\u001b[0m \u001b[38;5;124;03m    Returns indices of and distances to the neighbors of each point.\u001b[39;00m\n\u001b[0;32m   (...)\u001b[0m\n\u001b[1;32m    698\u001b[0m \u001b[38;5;124;03m           [2]]...)\u001b[39;00m\n\u001b[1;32m    699\u001b[0m \u001b[38;5;124;03m    \"\"\"\u001b[39;00m\n\u001b[0;32m--> 700\u001b[0m     \u001b[43mcheck_is_fitted\u001b[49m\u001b[43m(\u001b[49m\u001b[38;5;28;43mself\u001b[39;49m\u001b[43m)\u001b[49m\n\u001b[1;32m    702\u001b[0m     \u001b[38;5;28;01mif\u001b[39;00m n_neighbors \u001b[38;5;129;01mis\u001b[39;00m \u001b[38;5;28;01mNone\u001b[39;00m:\n\u001b[1;32m    703\u001b[0m         n_neighbors \u001b[38;5;241m=\u001b[39m \u001b[38;5;28mself\u001b[39m\u001b[38;5;241m.\u001b[39mn_neighbors\n",
      "File \u001b[0;32m~/Desktop/IDAO_2022/crystal/lib/python3.9/site-packages/sklearn/utils/validation.py:1222\u001b[0m, in \u001b[0;36mcheck_is_fitted\u001b[0;34m(estimator, attributes, msg, all_or_any)\u001b[0m\n\u001b[1;32m   1217\u001b[0m     fitted \u001b[38;5;241m=\u001b[39m [\n\u001b[1;32m   1218\u001b[0m         v \u001b[38;5;28;01mfor\u001b[39;00m v \u001b[38;5;129;01min\u001b[39;00m \u001b[38;5;28mvars\u001b[39m(estimator) \u001b[38;5;28;01mif\u001b[39;00m v\u001b[38;5;241m.\u001b[39mendswith(\u001b[38;5;124m\"\u001b[39m\u001b[38;5;124m_\u001b[39m\u001b[38;5;124m\"\u001b[39m) \u001b[38;5;129;01mand\u001b[39;00m \u001b[38;5;129;01mnot\u001b[39;00m v\u001b[38;5;241m.\u001b[39mstartswith(\u001b[38;5;124m\"\u001b[39m\u001b[38;5;124m__\u001b[39m\u001b[38;5;124m\"\u001b[39m)\n\u001b[1;32m   1219\u001b[0m     ]\n\u001b[1;32m   1221\u001b[0m \u001b[38;5;28;01mif\u001b[39;00m \u001b[38;5;129;01mnot\u001b[39;00m fitted:\n\u001b[0;32m-> 1222\u001b[0m     \u001b[38;5;28;01mraise\u001b[39;00m NotFittedError(msg \u001b[38;5;241m%\u001b[39m {\u001b[38;5;124m\"\u001b[39m\u001b[38;5;124mname\u001b[39m\u001b[38;5;124m\"\u001b[39m: \u001b[38;5;28mtype\u001b[39m(estimator)\u001b[38;5;241m.\u001b[39m\u001b[38;5;18m__name__\u001b[39m})\n",
      "\u001b[0;31mNotFittedError\u001b[0m: This KNeighborsRegressor instance is not fitted yet. Call 'fit' with appropriate arguments before using this estimator."
     ]
    }
   ],
   "source": [
    "from sklearn.neighbors import KNeighborsRegressor\n",
    "\n",
    "X_test = np.transpose(dist_matrix.to_numpy())\n",
    "\n",
    "neigh = KNeighborsRegressor(n_neighbors=1, metric='precomputed')\n",
    "#neigh.fit(???)\n",
    "neigh.predict(X_test)"
   ]
  },
  {
   "cell_type": "code",
   "execution_count": null,
   "id": "62dede6e",
   "metadata": {},
   "outputs": [],
   "source": []
  }
 ],
 "metadata": {
  "kernelspec": {
   "display_name": "crystal",
   "language": "python",
   "name": "crystal"
  },
  "language_info": {
   "codemirror_mode": {
    "name": "ipython",
    "version": 3
   },
   "file_extension": ".py",
   "mimetype": "text/x-python",
   "name": "python",
   "nbconvert_exporter": "python",
   "pygments_lexer": "ipython3",
   "version": "3.9.10"
  }
 },
 "nbformat": 4,
 "nbformat_minor": 5
}
