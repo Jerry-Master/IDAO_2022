{
 "cells": [
  {
   "cell_type": "code",
   "execution_count": 1,
   "id": "b8a21167",
   "metadata": {},
   "outputs": [],
   "source": [
    "import pandas as pd"
   ]
  },
  {
   "cell_type": "code",
   "execution_count": 2,
   "id": "d7078e41",
   "metadata": {},
   "outputs": [],
   "source": [
    "preds1 = pd.read_csv('partial_submision.csv', index_col=0)"
   ]
  },
  {
   "cell_type": "code",
   "execution_count": 3,
   "id": "0bff6303",
   "metadata": {},
   "outputs": [],
   "source": [
    "preds2 = pd.read_csv('submission.csv', index_col=0)"
   ]
  },
  {
   "cell_type": "code",
   "execution_count": 4,
   "id": "fbe35f8a",
   "metadata": {},
   "outputs": [],
   "source": [
    "preds_extra = preds2.loc[list(set(preds2.index).difference(set(preds1.index)))]"
   ]
  },
  {
   "cell_type": "code",
   "execution_count": 5,
   "id": "e17eadeb",
   "metadata": {},
   "outputs": [],
   "source": [
    "predictions = pd.concat([preds1, preds_extra]).reset_index()"
   ]
  },
  {
   "cell_type": "code",
   "execution_count": 6,
   "id": "a158b189",
   "metadata": {},
   "outputs": [],
   "source": [
    "predictions.to_csv('submissions-new.csv', index=False)"
   ]
  },
  {
   "cell_type": "code",
   "execution_count": 7,
   "id": "18b99ce6",
   "metadata": {},
   "outputs": [
    {
     "data": {
      "image/png": "[encoded data removed]",
      "text/plain": [
       "<Figure size 432x288 with 1 Axes>"
      ]
     },
     "metadata": {
      "needs_background": "light"
     },
     "output_type": "display_data"
    }
   ],
   "source": [
    "import matplotlib.pyplot as plt\n",
    "\n",
    "_=plt.hist(predictions.predictions, bins=86)"
   ]
  },
  {
   "cell_type": "code",
   "execution_count": null,
   "id": "235d8c4a",
   "metadata": {},
   "outputs": [],
   "source": []
  }
 ],
 "metadata": {
  "kernelspec": {
   "display_name": "crystal",
   "language": "python",
   "name": "crystal"
  },
  "language_info": {
   "codemirror_mode": {
    "name": "ipython",
    "version": 3
   },
   "file_extension": ".py",
   "mimetype": "text/x-python",
   "name": "python",
   "nbconvert_exporter": "python",
   "pygments_lexer": "ipython3",
   "version": "3.9.10"
  }
 },
 "nbformat": 4,
 "nbformat_minor": 5
}
