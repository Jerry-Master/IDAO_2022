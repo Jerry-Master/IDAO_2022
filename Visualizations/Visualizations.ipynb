{
 "cells": [
  {
   "cell_type": "code",
   "execution_count": 1,
   "id": "fd67251c",
   "metadata": {},
   "outputs": [
    {
     "data": {
      "application/vnd.jupyter.widget-view+json": {
       "model_id": "f823e78f706349d5b0dc8aede5a1bdbe",
       "version_major": 2,
       "version_minor": 0
      },
      "text/plain": []
     },
     "metadata": {},
     "output_type": "display_data"
    }
   ],
   "source": [
    "import nglview as nv\n",
    "\n",
    "import json\n",
    "from pymatgen.core import Lattice, Structure, Molecule"
   ]
  },
  {
   "cell_type": "code",
   "execution_count": 2,
   "id": "ef9bb085",
   "metadata": {
    "scrolled": true
   },
   "outputs": [],
   "source": [
    "def read_pymatgen_dict(file):\n",
    "    with open(file, \"r\") as f:\n",
    "        d = json.load(f)\n",
    "    return Structure.from_dict(d)"
   ]
  },
  {
   "cell_type": "code",
   "execution_count": 3,
   "id": "02413dbf",
   "metadata": {},
   "outputs": [],
   "source": [
    "import os\n",
    "\n",
    "filepath_train = '../Data/dichalcogenides_public/structures/'\n",
    "train_files = os.listdir(filepath_train)\n",
    "\n",
    "filepath_test = '../Data/dichalcogenides_private/structures/'\n",
    "test_files = os.listdir(filepath_test)"
   ]
  },
  {
   "cell_type": "code",
   "execution_count": 4,
   "id": "8016fb8c",
   "metadata": {},
   "outputs": [],
   "source": [
    "file = test_files[3]\n",
    "crystal = read_pymatgen_dict(filepath_test+file)"
   ]
  },
  {
   "cell_type": "code",
   "execution_count": 5,
   "id": "10fb8d07",
   "metadata": {},
   "outputs": [],
   "source": [
    "file = train_files[0]\n",
    "crystal = read_pymatgen_dict(filepath_train+file)"
   ]
  },
  {
   "cell_type": "code",
   "execution_count": 6,
   "id": "53d1791b",
   "metadata": {
    "scrolled": true
   },
   "outputs": [
    {
     "data": {
      "application/vnd.jupyter.widget-view+json": {
       "model_id": "",
       "version_major": 2,
       "version_minor": 0
      },
      "text/plain": [
       "NGLWidget()"
      ]
     },
     "metadata": {},
     "output_type": "display_data"
    }
   ],
   "source": [
    "view = nv.show_pymatgen(crystal)\n",
    "view.add_unitcell()\n",
    "view"
   ]
  },
  {
   "cell_type": "code",
   "execution_count": 910,
   "id": "9463a16d",
   "metadata": {},
   "outputs": [],
   "source": [
    "f1 = '6141eb094e27a1844a5f03dc'\n",
    "f2 = '6141cf1202d926221cabc545'\n",
    "\n",
    "crystal1 = read_pymatgen_dict(filepath_train+f1+'.json')\n",
    "crystal2 = read_pymatgen_dict(filepath_train+f2+'.json')"
   ]
  },
  {
   "cell_type": "code",
   "execution_count": 911,
   "id": "0519dc42",
   "metadata": {},
   "outputs": [
    {
     "data": {
      "application/vnd.jupyter.widget-view+json": {
       "model_id": "b0051c5b48e94b4d93254bfd02006b22",
       "version_major": 2,
       "version_minor": 0
      },
      "text/plain": [
       "NGLWidget()"
      ]
     },
     "metadata": {},
     "output_type": "display_data"
    }
   ],
   "source": [
    "view = nv.show_pymatgen(crystal1)\n",
    "view.add_unitcell()\n",
    "view"
   ]
  },
  {
   "cell_type": "code",
   "execution_count": 907,
   "id": "215d78b4",
   "metadata": {},
   "outputs": [
    {
     "data": {
      "application/vnd.jupyter.widget-view+json": {
       "model_id": "1ae596f8a2704a908c88196f3ea397b1",
       "version_major": 2,
       "version_minor": 0
      },
      "text/plain": [
       "NGLWidget()"
      ]
     },
     "metadata": {},
     "output_type": "display_data"
    }
   ],
   "source": [
    "view = nv.show_pymatgen(crystal2)\n",
    "view.add_unitcell()\n",
    "view"
   ]
  },
  {
   "cell_type": "code",
   "execution_count": 892,
   "id": "b5d2b7ce",
   "metadata": {},
   "outputs": [],
   "source": [
    "import pandas as pd\n",
    "import numpy as np"
   ]
  },
  {
   "cell_type": "code",
   "execution_count": 912,
   "id": "525f17cb",
   "metadata": {},
   "outputs": [],
   "source": [
    "cr1 = pd.DataFrame(crystal1.as_dict()['sites'])\n",
    "cr1abc = pd.DataFrame(list(cr1['abc']))\n",
    "cr1abc_c = cr1abc.copy()"
   ]
  },
  {
   "cell_type": "code",
   "execution_count": 913,
   "id": "546d6762",
   "metadata": {},
   "outputs": [],
   "source": [
    "def rotate120(x,y):\n",
    "    a = 120\n",
    "    a = a / 180 * np.pi\n",
    "    c, s = np.cos(a), np.sin(a)\n",
    "    B = np.array([[1, c],[0, s]])\n",
    "    Binv = np.linalg.inv(B)\n",
    "    R = np.array([[c,-s],[s,c]])\n",
    "    v = np.array([x,y])\n",
    "    v = Binv @ R @ B @ v\n",
    "    return -y, x-y"
   ]
  },
  {
   "cell_type": "code",
   "execution_count": 914,
   "id": "a3b95bd7",
   "metadata": {},
   "outputs": [],
   "source": [
    "def togrid(x,y,z):\n",
    "    xy = cr1abc[cr1abc[2]==z]\n",
    "    if (z != 0.25):\n",
    "        y = np.round(y, 7)\n",
    "    xx = xy[0]\n",
    "    yy = xy[1]\n",
    "    \n",
    "    xm, xM = xx.min(), xx.max()\n",
    "    ym, yM = yy.min(), yy.max()\n",
    "    \n",
    "    x = (x - xm) % ((xM - xm) / 7 * 8) + xm\n",
    "    y = (y - ym) % ((yM - ym) / 7 * 8) + ym\n",
    "    return np.round(x, 8), np.round(y, 8)"
   ]
  },
  {
   "cell_type": "code",
   "execution_count": 915,
   "id": "12b065f5",
   "metadata": {},
   "outputs": [],
   "source": [
    "def rot_mapping(row):\n",
    "    x, y, z = row\n",
    "    x, y = rotate120(x, y)\n",
    "    x, y = togrid(x, y, z)\n",
    "    return [x, y, z]"
   ]
  },
  {
   "cell_type": "code",
   "execution_count": 916,
   "id": "2ab65dbc",
   "metadata": {},
   "outputs": [],
   "source": [
    "def translate(x, y, z, vx, vy, vz):\n",
    "    return x + vx, y + vy, z + vz\n",
    "\n",
    "def trans_mapping(row, vx, vy, vz):\n",
    "    x, y, z = row\n",
    "    x, y, zz = translate(x, y, z, vx, vy, vz)\n",
    "    x, y = togrid(x, y, z)\n",
    "    return [x, y, zz]"
   ]
  },
  {
   "cell_type": "code",
   "execution_count": 848,
   "id": "608dfa90",
   "metadata": {},
   "outputs": [],
   "source": [
    "cr1abc = cr1abc_c.apply(rot_mapping, axis=1, result_type='expand')\n",
    "cr1abc_c = cr1abc.copy()\n",
    "cr1abc = cr1abc_c.apply(rot_mapping, axis=1, result_type='expand')"
   ]
  },
  {
   "cell_type": "code",
   "execution_count": 922,
   "id": "ceb72da1",
   "metadata": {},
   "outputs": [],
   "source": [
    "cr1abc_c = cr1abc.copy()\n",
    "cr1abc = cr1abc_c.apply(trans_mapping, axis=1, result_type='expand', args=(0.2, 0, 0))"
   ]
  },
  {
   "cell_type": "code",
   "execution_count": 923,
   "id": "91adfbae",
   "metadata": {},
   "outputs": [],
   "source": [
    "cr1['abc'] = pd.Series(cr1abc.to_numpy().tolist(), index=cr1.index)"
   ]
  },
  {
   "cell_type": "code",
   "execution_count": 924,
   "id": "63d2a387",
   "metadata": {},
   "outputs": [],
   "source": [
    "crd = crystal1.as_dict()\n",
    "crd['sites'] = [cr1.iloc[i].to_dict() for i in range(len(cr1))]"
   ]
  },
  {
   "cell_type": "code",
   "execution_count": 925,
   "id": "cdbe8341",
   "metadata": {},
   "outputs": [],
   "source": [
    "crystal_new = Structure.from_dict(crd)"
   ]
  },
  {
   "cell_type": "code",
   "execution_count": 926,
   "id": "fb379d5e",
   "metadata": {},
   "outputs": [
    {
     "data": {
      "application/vnd.jupyter.widget-view+json": {
       "model_id": "ee437e02de66417d9614ce5b12944f43",
       "version_major": 2,
       "version_minor": 0
      },
      "text/plain": [
       "NGLWidget()"
      ]
     },
     "metadata": {},
     "output_type": "display_data"
    }
   ],
   "source": [
    "view = nv.show_pymatgen(crystal_new)\n",
    "view.add_unitcell()\n",
    "view"
   ]
  },
  {
   "cell_type": "code",
   "execution_count": 902,
   "id": "fabd45af",
   "metadata": {},
   "outputs": [
    {
     "data": {
      "application/vnd.jupyter.widget-view+json": {
       "model_id": "20a5cecaaeee448881c7a013869f4b19",
       "version_major": 2,
       "version_minor": 0
      },
      "text/plain": [
       "NGLWidget()"
      ]
     },
     "metadata": {},
     "output_type": "display_data"
    }
   ],
   "source": [
    "view = nv.show_pymatgen(crystal2)\n",
    "view.add_unitcell()\n",
    "view"
   ]
  },
  {
   "cell_type": "code",
   "execution_count": 5,
   "id": "821c8518",
   "metadata": {},
   "outputs": [],
   "source": [
    "nv.write_html('embed.html', view)"
   ]
  },
  {
   "cell_type": "code",
   "execution_count": 6,
   "id": "0aafd558",
   "metadata": {},
   "outputs": [
    {
     "data": {
      "application/vnd.jupyter.widget-view+json": {
       "model_id": "fecc7a70dc01491ab00a1fe7dca07d04",
       "version_major": 2,
       "version_minor": 0
      },
      "text/plain": [
       "NGLWidget()"
      ]
     },
     "metadata": {},
     "output_type": "display_data"
    }
   ],
   "source": [
    "coords = [[0, 0, 0], [0.75,0.5,0.75]]\n",
    "lattice = Lattice.from_parameters(a=3.84, b=3.84, c=3.84, alpha=120,\n",
    "                                  beta=90, gamma=60)\n",
    "struct = Structure(lattice, [\"Si\", \"Si\"], coords)\n",
    "\n",
    "coords = [[0.000000, 0.000000, 0.000000],\n",
    "          [0.000000, 0.000000, 1.089000],\n",
    "          [1.026719, 0.000000, -0.363000],\n",
    "          [-0.513360, -0.889165, -0.363000],\n",
    "          [-0.513360, 0.889165, -0.363000]]\n",
    "methane = Molecule([\"C\", \"H\", \"H\", \"H\", \"H\"], coords)\n",
    "\n",
    "nv.show_pymatgen(methane)"
   ]
  },
  {
   "cell_type": "code",
   "execution_count": null,
   "id": "3ffdee9a",
   "metadata": {},
   "outputs": [],
   "source": []
  }
 ],
 "metadata": {
  "kernelspec": {
   "display_name": "crystal",
   "language": "python",
   "name": "crystal"
  },
  "language_info": {
   "codemirror_mode": {
    "name": "ipython",
    "version": 3
   },
   "file_extension": ".py",
   "mimetype": "text/x-python",
   "name": "python",
   "nbconvert_exporter": "python",
   "pygments_lexer": "ipython3",
   "version": "3.9.10"
  }
 },
 "nbformat": 4,
 "nbformat_minor": 5
}
