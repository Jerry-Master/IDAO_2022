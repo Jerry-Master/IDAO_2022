{
 "cells": [
  {
   "cell_type": "code",
   "execution_count": 1,
   "id": "fd67251c",
   "metadata": {},
   "outputs": [
    {
     "data": {
      "application/vnd.jupyter.widget-view+json": {
       "model_id": "a686102fe281463aa205912172fcc07d",
       "version_major": 2,
       "version_minor": 0
      },
      "text/plain": []
     },
     "metadata": {},
     "output_type": "display_data"
    }
   ],
   "source": [
    "import nglview as nv\n",
    "\n",
    "import json\n",
    "from pymatgen.core import Lattice, Structure, Molecule"
   ]
  },
  {
   "cell_type": "code",
   "execution_count": 2,
   "id": "ef9bb085",
   "metadata": {
    "scrolled": true
   },
   "outputs": [],
   "source": [
    "def read_pymatgen_dict(file):\n",
    "    with open(file, \"r\") as f:\n",
    "        d = json.load(f)\n",
    "    return Structure.from_dict(d)"
   ]
  },
  {
   "cell_type": "code",
   "execution_count": 6,
   "id": "8016fb8c",
   "metadata": {},
   "outputs": [],
   "source": [
    "file = '../Data/dichalcogenides_public/structures/6141cf11cc0e69a0cf28ab35.json'\n",
    "crystal = read_pymatgen_dict(file)"
   ]
  },
  {
   "cell_type": "code",
   "execution_count": 8,
   "id": "53d1791b",
   "metadata": {},
   "outputs": [
    {
     "data": {
      "application/vnd.jupyter.widget-view+json": {
       "model_id": "2476b078d8dd4caf88616a13098f497b",
       "version_major": 2,
       "version_minor": 0
      },
      "text/plain": [
       "NGLWidget()"
      ]
     },
     "metadata": {},
     "output_type": "display_data"
    }
   ],
   "source": [
    "view = nv.show_pymatgen(crystal)\n",
    "# view.add_unitcell()\n",
    "view"
   ]
  },
  {
   "cell_type": "code",
   "execution_count": 11,
   "id": "0aafd558",
   "metadata": {},
   "outputs": [
    {
     "data": {
      "application/vnd.jupyter.widget-view+json": {
       "model_id": "7b70c10a5d434d1d9d73a4eed50f8d42",
       "version_major": 2,
       "version_minor": 0
      },
      "text/plain": [
       "NGLWidget()"
      ]
     },
     "metadata": {},
     "output_type": "display_data"
    }
   ],
   "source": [
    "coords = [[0, 0, 0], [0.75,0.5,0.75]]\n",
    "lattice = Lattice.from_parameters(a=3.84, b=3.84, c=3.84, alpha=120,\n",
    "                                  beta=90, gamma=60)\n",
    "struct = Structure(lattice, [\"Si\", \"Si\"], coords)\n",
    "\n",
    "coords = [[0.000000, 0.000000, 0.000000],\n",
    "          [0.000000, 0.000000, 1.089000],\n",
    "          [1.026719, 0.000000, -0.363000],\n",
    "          [-0.513360, -0.889165, -0.363000],\n",
    "          [-0.513360, 0.889165, -0.363000]]\n",
    "methane = Molecule([\"C\", \"H\", \"H\", \"H\", \"H\"], coords)\n",
    "\n",
    "nv.show_pymatgen(methane)"
   ]
  },
  {
   "cell_type": "code",
   "execution_count": null,
   "id": "3ffdee9a",
   "metadata": {},
   "outputs": [],
   "source": []
  }
 ],
 "metadata": {
  "kernelspec": {
   "display_name": "crystal",
   "language": "python",
   "name": "crystal"
  },
  "language_info": {
   "codemirror_mode": {
    "name": "ipython",
    "version": 3
   },
   "file_extension": ".py",
   "mimetype": "text/x-python",
   "name": "python",
   "nbconvert_exporter": "python",
   "pygments_lexer": "ipython3",
   "version": "3.7.12"
  }
 },
 "nbformat": 4,
 "nbformat_minor": 5
}
