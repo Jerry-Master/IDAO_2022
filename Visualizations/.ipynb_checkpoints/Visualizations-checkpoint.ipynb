{
 "cells": [
  {
   "cell_type": "code",
   "execution_count": 1,
   "id": "fd67251c",
   "metadata": {},
   "outputs": [
    {
     "data": {
      "application/vnd.jupyter.widget-view+json": {
       "model_id": "c1334872025f4a1c9769191661846ad5",
       "version_major": 2,
       "version_minor": 0
      },
      "text/plain": []
     },
     "metadata": {},
     "output_type": "display_data"
    }
   ],
   "source": [
    "import nglview as nv\n",
    "\n",
    "import json\n",
    "from pymatgen.core import Lattice, Structure, Molecule"
   ]
  },
  {
   "cell_type": "code",
   "execution_count": 2,
   "id": "ef9bb085",
   "metadata": {
    "scrolled": true
   },
   "outputs": [],
   "source": [
    "def read_pymatgen_dict(file):\n",
    "    with open(file, \"r\") as f:\n",
    "        d = json.load(f)\n",
    "    return Structure.from_dict(d)"
   ]
  },
  {
   "cell_type": "code",
   "execution_count": 3,
   "id": "02413dbf",
   "metadata": {},
   "outputs": [],
   "source": [
    "import os\n",
    "\n",
    "filepath_train = '../Data/dichalcogenides_public/structures/'\n",
    "train_files = os.listdir(filepath_train)\n",
    "\n",
    "filepath_test = '../Data/dichalcogenides_private/structures/'\n",
    "test_files = os.listdir(filepath_test)"
   ]
  },
  {
   "cell_type": "code",
   "execution_count": 4,
   "id": "8016fb8c",
   "metadata": {},
   "outputs": [],
   "source": [
    "file = test_files[3]\n",
    "crystal = read_pymatgen_dict(filepath_test+file)"
   ]
  },
  {
   "cell_type": "code",
   "execution_count": 5,
   "id": "10fb8d07",
   "metadata": {},
   "outputs": [],
   "source": [
    "file = train_files[0]\n",
    "crystal = read_pymatgen_dict(filepath_train+file)"
   ]
  },
  {
   "cell_type": "code",
   "execution_count": 6,
   "id": "53d1791b",
   "metadata": {
    "scrolled": true
   },
   "outputs": [
    {
     "data": {
      "application/vnd.jupyter.widget-view+json": {
       "model_id": "ae8575543fe44288a453f27add0ed0dc",
       "version_major": 2,
       "version_minor": 0
      },
      "text/plain": [
       "NGLWidget()"
      ]
     },
     "metadata": {},
     "output_type": "display_data"
    }
   ],
   "source": [
    "view = nv.show_pymatgen(crystal)\n",
    "view.add_unitcell()\n",
    "view"
   ]
  },
  {
   "cell_type": "code",
   "execution_count": 7,
   "id": "9463a16d",
   "metadata": {},
   "outputs": [],
   "source": [
    "f1 = '6141f6d84e27a1844a5f0494'\n",
    "f2 = '6141f9944e27a1844a5f04b8'\n",
    "\n",
    "crystal1 = read_pymatgen_dict(filepath_train+f1+'.json')\n",
    "crystal2 = read_pymatgen_dict(filepath_train+f2+'.json')"
   ]
  },
  {
   "cell_type": "code",
   "execution_count": 18,
   "id": "b5d2b7ce",
   "metadata": {},
   "outputs": [],
   "source": [
    "import pandas as pd"
   ]
  },
  {
   "cell_type": "code",
   "execution_count": 140,
   "id": "525f17cb",
   "metadata": {},
   "outputs": [],
   "source": [
    "cr1 = pd.DataFrame(crystal1.as_dict()['sites'])"
   ]
  },
  {
   "cell_type": "code",
   "execution_count": 141,
   "id": "b0e8bc20",
   "metadata": {},
   "outputs": [],
   "source": [
    "cr1abc = pd.DataFrame(list(cr1['abc']))\n",
    "idx = cr1abc[cr1abc[1]==0.95833333].index\n",
    "cr1abc.loc[idx,1] = -0.041667\n",
    "\n",
    "idx = cr1abc[cr1abc[1]==0.91666667].index\n",
    "cr1abc.loc[idx,1] = -0.083333"
   ]
  },
  {
   "cell_type": "code",
   "execution_count": 131,
   "id": "e3474259",
   "metadata": {},
   "outputs": [
    {
     "data": {
      "text/plain": [
       "{0.04166667,\n",
       " 0.08333333,\n",
       " 0.16666667,\n",
       " 0.20833333,\n",
       " 0.29166667,\n",
       " 0.3333333333333333,\n",
       " 0.41666667,\n",
       " 0.45833333,\n",
       " 0.54166667,\n",
       " 0.58333333,\n",
       " 0.6666666666666666,\n",
       " 0.70833333,\n",
       " 0.79166667,\n",
       " 0.83333333,\n",
       " 0.91666667,\n",
       " 0.95833333}"
      ]
     },
     "execution_count": 131,
     "metadata": {},
     "output_type": "execute_result"
    }
   ],
   "source": [
    "cr1abc = pd.DataFrame(list(cr1['abc']))\n",
    "set(cr1abc[1])"
   ]
  },
  {
   "cell_type": "code",
   "execution_count": 142,
   "id": "91adfbae",
   "metadata": {},
   "outputs": [],
   "source": [
    "cr1['abc'] = pd.Series(cr1abc.to_numpy().tolist(), index=cr1.index)"
   ]
  },
  {
   "cell_type": "code",
   "execution_count": 143,
   "id": "63d2a387",
   "metadata": {},
   "outputs": [],
   "source": [
    "crd = crystal1.as_dict()\n",
    "crd['sites'] = [cr1.iloc[i].to_dict() for i in range(len(cr1))]"
   ]
  },
  {
   "cell_type": "code",
   "execution_count": 144,
   "id": "cdbe8341",
   "metadata": {},
   "outputs": [],
   "source": [
    "crystal_new = Structure.from_dict(crd)"
   ]
  },
  {
   "cell_type": "code",
   "execution_count": 146,
   "id": "fb379d5e",
   "metadata": {},
   "outputs": [
    {
     "data": {
      "application/vnd.jupyter.widget-view+json": {
       "model_id": "fd0e4d9df38f492592147181905a7a52",
       "version_major": 2,
       "version_minor": 0
      },
      "text/plain": [
       "NGLWidget()"
      ]
     },
     "metadata": {},
     "output_type": "display_data"
    }
   ],
   "source": [
    "view = nv.show_pymatgen(crystal_new)\n",
    "view.add_unitcell()\n",
    "view"
   ]
  },
  {
   "cell_type": "code",
   "execution_count": 12,
   "id": "fd256606",
   "metadata": {},
   "outputs": [
    {
     "data": {
      "application/vnd.jupyter.widget-view+json": {
       "model_id": "deeedc940b464ea89e9b2793dbda9297",
       "version_major": 2,
       "version_minor": 0
      },
      "text/plain": [
       "NGLWidget()"
      ]
     },
     "metadata": {},
     "output_type": "display_data"
    }
   ],
   "source": [
    "view = nv.show_pymatgen(crystal2)\n",
    "view.add_unitcell()\n",
    "view"
   ]
  },
  {
   "cell_type": "code",
   "execution_count": 5,
   "id": "821c8518",
   "metadata": {},
   "outputs": [],
   "source": [
    "nv.write_html('embed.html', view)"
   ]
  },
  {
   "cell_type": "code",
   "execution_count": 6,
   "id": "0aafd558",
   "metadata": {},
   "outputs": [
    {
     "data": {
      "application/vnd.jupyter.widget-view+json": {
       "model_id": "fecc7a70dc01491ab00a1fe7dca07d04",
       "version_major": 2,
       "version_minor": 0
      },
      "text/plain": [
       "NGLWidget()"
      ]
     },
     "metadata": {},
     "output_type": "display_data"
    }
   ],
   "source": [
    "coords = [[0, 0, 0], [0.75,0.5,0.75]]\n",
    "lattice = Lattice.from_parameters(a=3.84, b=3.84, c=3.84, alpha=120,\n",
    "                                  beta=90, gamma=60)\n",
    "struct = Structure(lattice, [\"Si\", \"Si\"], coords)\n",
    "\n",
    "coords = [[0.000000, 0.000000, 0.000000],\n",
    "          [0.000000, 0.000000, 1.089000],\n",
    "          [1.026719, 0.000000, -0.363000],\n",
    "          [-0.513360, -0.889165, -0.363000],\n",
    "          [-0.513360, 0.889165, -0.363000]]\n",
    "methane = Molecule([\"C\", \"H\", \"H\", \"H\", \"H\"], coords)\n",
    "\n",
    "nv.show_pymatgen(methane)"
   ]
  },
  {
   "cell_type": "code",
   "execution_count": null,
   "id": "3ffdee9a",
   "metadata": {},
   "outputs": [],
   "source": []
  }
 ],
 "metadata": {
  "kernelspec": {
   "display_name": "crystal",
   "language": "python",
   "name": "crystal"
  },
  "language_info": {
   "codemirror_mode": {
    "name": "ipython",
    "version": 3
   },
   "file_extension": ".py",
   "mimetype": "text/x-python",
   "name": "python",
   "nbconvert_exporter": "python",
   "pygments_lexer": "ipython3",
   "version": "3.9.10"
  }
 },
 "nbformat": 4,
 "nbformat_minor": 5
}
