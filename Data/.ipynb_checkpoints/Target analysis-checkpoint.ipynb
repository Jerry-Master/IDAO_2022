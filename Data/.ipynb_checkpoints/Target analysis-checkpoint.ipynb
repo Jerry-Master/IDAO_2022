{
 "cells": [
  {
   "cell_type": "code",
   "execution_count": 1,
   "id": "3223b8ad",
   "metadata": {},
   "outputs": [],
   "source": [
    "import pandas as pd\n",
    "import numpy as np\n",
    "import matplotlib.pyplot as plt"
   ]
  },
  {
   "cell_type": "code",
   "execution_count": 2,
   "id": "9eb3bf09",
   "metadata": {},
   "outputs": [],
   "source": [
    "filepath = 'dichalcogenides_public/'\n",
    "targets = pd.read_csv(filepath + 'targets.csv', index_col=0)"
   ]
  },
  {
   "cell_type": "code",
   "execution_count": 3,
   "id": "7c239472",
   "metadata": {},
   "outputs": [
    {
     "data": {
      "image/png": "[encoded data removed]",
      "text/plain": [
       "<Figure size 432x288 with 1 Axes>"
      ]
     },
     "metadata": {
      "needs_background": "light"
     },
     "output_type": "display_data"
    }
   ],
   "source": [
    "out = plt.hist(targets, bins=86)\n",
    "plt.show()"
   ]
  },
  {
   "cell_type": "code",
   "execution_count": 4,
   "id": "c91fb79d",
   "metadata": {},
   "outputs": [
    {
     "data": {
      "text/plain": [
       "(1.1319046511627906, 1.1518662790697674)"
      ]
     },
     "execution_count": 4,
     "metadata": {},
     "output_type": "execute_result"
    }
   ],
   "source": [
    "(out[1][np.where(out[0]==692)[0][0]], out[1][np.where(out[0]==692)[0][0]+1])"
   ]
  },
  {
   "cell_type": "code",
   "execution_count": 5,
   "id": "294d0215",
   "metadata": {},
   "outputs": [
    {
     "data": {
      "text/plain": [
       "array([  1.,   1.,   0.,   1.,   0.,   1.,   0.,   2.,  24.,  81.,  90.,\n",
       "         9., 151., 366., 144., 239., 332.,  14.,   0.,   0.,   1.,   0.,\n",
       "         1.,   0.,   0.,   0.,   0.,   8.,  11.,   0.,   1.,   0.,   0.,\n",
       "         0.,   0.,   0.,   0.,   0.,   0.,   0.,   0.,   0.,  12.,  20.,\n",
       "         0.,  17.,   2.,  19.,   2.,  74., 196.,  35., 692.,   5.,  39.,\n",
       "         1.,   0.,   0.,   0.,   0.,   0.,   0.,   0.,   0.,   0.,   0.,\n",
       "         0.,   0.,   0.,   0.,   0.,   0.,   0.,   0.,   0.,   0.,   0.,\n",
       "         0.,   0.,   0.,   0.,   0.,   0.,   0.,   0., 374.])"
      ]
     },
     "execution_count": 5,
     "metadata": {},
     "output_type": "execute_result"
    }
   ],
   "source": [
    "out[0]"
   ]
  },
  {
   "cell_type": "code",
   "execution_count": 6,
   "id": "52dd4c83",
   "metadata": {},
   "outputs": [
    {
     "data": {
      "text/plain": [
       "0.5947403910991234"
      ]
     },
     "execution_count": 6,
     "metadata": {},
     "output_type": "execute_result"
    }
   ],
   "source": [
    "(692+374+366+332) / out[0].sum()"
   ]
  },
  {
   "cell_type": "code",
   "execution_count": 7,
   "id": "1d57190e",
   "metadata": {},
   "outputs": [],
   "source": [
    "import os\n",
    "\n",
    "filepath_train = '../Data/dichalcogenides_public/structures/'\n",
    "train_files = os.listdir(filepath_train)\n",
    "\n",
    "filepath_test = '../Data/dichalcogenides_private/structures/'\n",
    "test_files = os.listdir(filepath_test)\n",
    "\n",
    "targets = pd.read_csv('../Data/dichalcogenides_public/targets.csv', index_col=0)"
   ]
  },
  {
   "cell_type": "code",
   "execution_count": 8,
   "id": "d9e010b9",
   "metadata": {},
   "outputs": [],
   "source": [
    "from itertools import zip_longest\n",
    "\n",
    "def interleave(*a):\n",
    "    # zip_longest filling values with as many NaNs as\n",
    "    # values in second axis\n",
    "    l = *zip_longest(*a, fillvalue=np.nan),\n",
    "    # build a 2d array from the list\n",
    "    out = np.concatenate(l)\n",
    "    # return non-NaN values\n",
    "    return np.array(out[~np.isnan(out)], dtype=int)\n",
    "\n",
    "# Returns the square of the euclidean norm of 2D vector\n",
    "def norm(v):\n",
    "    return v[0] * v[0] + v[1] * v[1]\n",
    "\n",
    "# Returns the vector joining l1[i,j] with the pixel in l2\n",
    "# that is closer and has the same value\n",
    "def movement_vector(l1, l2, i, j):\n",
    "    if (l1[i,j] == l2[i,j]):\n",
    "        return (0,0)\n",
    "    \n",
    "    at_loc = np.argwhere(l2==l1[i,j])\n",
    "    min_dist = 10000\n",
    "    v = (-100,-100)\n",
    "    \"\"\"for loc in at_loc:\n",
    "        n = norm((loc[0]-i,loc[1]-j))\n",
    "        if n < min_dist:\n",
    "            v = (loc[0]-i,loc[1]-j)\n",
    "            min_dist = n\n",
    "    return v\"\"\"\n",
    "    \n",
    "    n, m = l2.shape\n",
    "    for ii in range(n):\n",
    "        for jj in range(m):\n",
    "            if (l1[i,j] == l2[ii,jj]):\n",
    "                n = norm((ii-i, jj-j))\n",
    "                if n < min_dist:\n",
    "                    v = (ii-i, jj-j)\n",
    "                    min_dist = n\n",
    "    v = (min(v[0], 8-v[0]), min(v[1], 8-v[1]))\n",
    "    return v\n",
    "\n",
    "# Computes the distance between two layers as the sum of\n",
    "# the norm of the movement vectors of all pixels\n",
    "# A term accounting for the difference in the number of \n",
    "# imperfections is also added\n",
    "def dist_layer(l1, l2):\n",
    "    n, m = l1.shape\n",
    "    d = 0\n",
    "    v_list = []\n",
    "    for i in range(n):\n",
    "        for j in range(m):\n",
    "            v = movement_vector(l1, l2, i, j)\n",
    "            v_list.append(v)\n",
    "            if v[0] == -100:\n",
    "                d += 15\n",
    "            else:\n",
    "                d += np.sqrt(norm(v))\n",
    "    l1_se = np.sum(l1==34)\n",
    "    l2_se = np.sum(l2==34)\n",
    "    se_diff = np.abs(l1_se-l2_se)\n",
    "    \n",
    "    l1_void = np.sum(l1==0)\n",
    "    l2_void = np.sum(l2==0)\n",
    "    void_diff = np.abs(l1_void-l2_void)\n",
    "    \n",
    "    l1_w = np.sum(l1==74)\n",
    "    l2_w = np.sum(l2==74)\n",
    "    w_diff = np.abs(l1_w-l2_w)\n",
    "    \n",
    "    d += se_diff * 5 + void_diff * 5 + w_diff * 5\n",
    "    return d\n",
    "\n",
    "# Computes distance between two crystals\n",
    "def dist(im1, im2):\n",
    "    d = dist_layer_sim(im1[:,:,1], im2[:,:,1])\n",
    "    \n",
    "    d00 = dist_layer_sim(im1[:,:,0], im2[:,:,0])\n",
    "    d02 = dist_layer_sim(im1[:,:,0], im2[:,:,2])\n",
    "    d20 = dist_layer_sim(im1[:,:,2], im2[:,:,0])\n",
    "    d22 = dist_layer_sim(im1[:,:,2], im2[:,:,2])\n",
    "    \n",
    "    d += min(d00+d22, d02+d20)\n",
    "    return d\n",
    "\n",
    "# Computes distance between l1 and l2 considering possible \n",
    "# transformation like rotations and symmetries\n",
    "def dist_layer_sim(l1, l2):\n",
    "    d = dist_layer(l1, l2)\n",
    "    d_sim_h = dist_layer(l1, l2[:,::-1])\n",
    "    d_sim_v = dist_layer(l1, l2[::-1,:])\n",
    "    d_sim = dist_layer(l1, l2[::-1,::-1])\n",
    "    d_rot_1 = dist_layer(l1, np.rot90(l2))\n",
    "    d_rot_2 = dist_layer(l1, np.rot90(l2, k=2))\n",
    "    d_rot_3 = dist_layer(l1, np.rot90(l2, k=3))\n",
    "    return np.min([d, d_sim_v, d_sim_h, d_sim, d_rot_1, d_rot_2, d_rot_3])\n",
    "\n"
   ]
  },
  {
   "cell_type": "code",
   "execution_count": 9,
   "id": "557f9e9c",
   "metadata": {},
   "outputs": [
    {
     "name": "stdout",
     "output_type": "stream",
     "text": [
      "Crystal distance: 31.414213562373096\n",
      "Band gap distance: 0.6669\n",
      "CPU times: user 19.9 ms, sys: 3.44 ms, total: 23.3 ms\n",
      "Wall time: 27.3 ms\n"
     ]
    }
   ],
   "source": [
    "%%time\n",
    "k1, k2 = 0, 499\n",
    "\n",
    "im1 = np.load(filepath + 'images/' + train_files[k1][:-5] + '.npy')\n",
    "im2 = np.load(filepath + 'images/' + train_files[k2][:-5] + '.npy')\n",
    "\n",
    "print('Crystal distance:', dist(im1, im2))\n",
    "print('Band gap distance:', np.abs(targets.loc[train_files[k1][:-5]] - targets.loc[train_files[k2][:-5]])[0])"
   ]
  },
  {
   "cell_type": "code",
   "execution_count": 10,
   "id": "9dcb0cf9",
   "metadata": {},
   "outputs": [],
   "source": [
    "def abline(slope, intercept):\n",
    "    \"\"\"Plot a line from slope and intercept\"\"\"\n",
    "    axes = plt.gca()\n",
    "    x_vals = np.array(axes.get_xlim())\n",
    "    y_vals = intercept + slope * x_vals\n",
    "    plt.plot(x_vals, y_vals, '--')"
   ]
  },
  {
   "cell_type": "code",
   "execution_count": 13,
   "id": "21a97ecc",
   "metadata": {
    "scrolled": true
   },
   "outputs": [
    {
     "name": "stdout",
     "output_type": "stream",
     "text": [
      "k1: 1000\n"
     ]
    },
    {
     "data": {
      "application/vnd.jupyter.widget-view+json": {
       "model_id": "9a08c87a936f4eaba6c0d5f277bdbfe1",
       "version_major": 2,
       "version_minor": 0
      },
      "text/plain": [
       "HBox(children=(HTML(value=''), FloatProgress(value=0.0, max=2966.0), HTML(value='')))"
      ]
     },
     "metadata": {},
     "output_type": "display_data"
    },
    {
     "name": "stdout",
     "output_type": "stream",
     "text": [
      "\n"
     ]
    },
    {
     "data": {
      "image/png": "[encoded data removed]",
      "text/plain": [
       "<Figure size 432x288 with 1 Axes>"
      ]
     },
     "metadata": {
      "needs_background": "light"
     },
     "output_type": "display_data"
    },
    {
     "name": "stdout",
     "output_type": "stream",
     "text": [
      "Nearest neighbour is: 1758\n",
      "k1: 1001\n"
     ]
    },
    {
     "data": {
      "application/vnd.jupyter.widget-view+json": {
       "model_id": "4b4310cc4a24490e8d6b22f4a923d077",
       "version_major": 2,
       "version_minor": 0
      },
      "text/plain": [
       "HBox(children=(HTML(value=''), FloatProgress(value=0.0, max=2966.0), HTML(value='')))"
      ]
     },
     "metadata": {},
     "output_type": "display_data"
    },
    {
     "name": "stdout",
     "output_type": "stream",
     "text": [
      "\n"
     ]
    },
    {
     "data": {
      "image/png": "[encoded data removed]",
      "text/plain": [
       "<Figure size 432x288 with 1 Axes>"
      ]
     },
     "metadata": {
      "needs_background": "light"
     },
     "output_type": "display_data"
    },
    {
     "name": "stdout",
     "output_type": "stream",
     "text": [
      "Nearest neighbour is: 109\n",
      "k1: 1002\n"
     ]
    },
    {
     "data": {
      "application/vnd.jupyter.widget-view+json": {
       "model_id": "60559b9fbd034797a0ca42013c8d826a",
       "version_major": 2,
       "version_minor": 0
      },
      "text/plain": [
       "HBox(children=(HTML(value=''), FloatProgress(value=0.0, max=2966.0), HTML(value='')))"
      ]
     },
     "metadata": {},
     "output_type": "display_data"
    },
    {
     "name": "stdout",
     "output_type": "stream",
     "text": [
      "\n"
     ]
    },
    {
     "data": {
      "image/png": "[encoded data removed]",
      "text/plain": [
       "<Figure size 432x288 with 1 Axes>"
      ]
     },
     "metadata": {
      "needs_background": "light"
     },
     "output_type": "display_data"
    },
    {
     "name": "stdout",
     "output_type": "stream",
     "text": [
      "Nearest neighbour is: 2175\n",
      "k1: 1003\n"
     ]
    },
    {
     "data": {
      "application/vnd.jupyter.widget-view+json": {
       "model_id": "f9318ca9adba405a971bf6986ec427c8",
       "version_major": 2,
       "version_minor": 0
      },
      "text/plain": [
       "HBox(children=(HTML(value=''), FloatProgress(value=0.0, max=2966.0), HTML(value='')))"
      ]
     },
     "metadata": {},
     "output_type": "display_data"
    },
    {
     "name": "stdout",
     "output_type": "stream",
     "text": [
      "\n"
     ]
    },
    {
     "data": {
      "image/png": "[encoded data removed]",
      "text/plain": [
       "<Figure size 432x288 with 1 Axes>"
      ]
     },
     "metadata": {
      "needs_background": "light"
     },
     "output_type": "display_data"
    },
    {
     "name": "stdout",
     "output_type": "stream",
     "text": [
      "Nearest neighbour is: 796\n",
      "k1: 1004\n"
     ]
    },
    {
     "data": {
      "application/vnd.jupyter.widget-view+json": {
       "model_id": "5a274c6295c74ed1a019560b62245310",
       "version_major": 2,
       "version_minor": 0
      },
      "text/plain": [
       "HBox(children=(HTML(value=''), FloatProgress(value=0.0, max=2966.0), HTML(value='')))"
      ]
     },
     "metadata": {},
     "output_type": "display_data"
    },
    {
     "name": "stdout",
     "output_type": "stream",
     "text": [
      "\n"
     ]
    },
    {
     "data": {
      "image/png": "[encoded data removed]",
      "text/plain": [
       "<Figure size 432x288 with 1 Axes>"
      ]
     },
     "metadata": {
      "needs_background": "light"
     },
     "output_type": "display_data"
    },
    {
     "name": "stdout",
     "output_type": "stream",
     "text": [
      "Nearest neighbour is: 495\n",
      "k1: 1005\n"
     ]
    },
    {
     "data": {
      "application/vnd.jupyter.widget-view+json": {
       "model_id": "dacb420c2a584e18af2401dea264197f",
       "version_major": 2,
       "version_minor": 0
      },
      "text/plain": [
       "HBox(children=(HTML(value=''), FloatProgress(value=0.0, max=2966.0), HTML(value='')))"
      ]
     },
     "metadata": {},
     "output_type": "display_data"
    },
    {
     "name": "stdout",
     "output_type": "stream",
     "text": [
      "\n"
     ]
    },
    {
     "data": {
      "image/png": "[encoded data removed]",
      "text/plain": [
       "<Figure size 432x288 with 1 Axes>"
      ]
     },
     "metadata": {
      "needs_background": "light"
     },
     "output_type": "display_data"
    },
    {
     "name": "stdout",
     "output_type": "stream",
     "text": [
      "Nearest neighbour is: 698\n",
      "k1: 1006\n"
     ]
    },
    {
     "data": {
      "application/vnd.jupyter.widget-view+json": {
       "model_id": "25f32e67b8044da9a8d9fd63d1479098",
       "version_major": 2,
       "version_minor": 0
      },
      "text/plain": [
       "HBox(children=(HTML(value=''), FloatProgress(value=0.0, max=2966.0), HTML(value='')))"
      ]
     },
     "metadata": {},
     "output_type": "display_data"
    },
    {
     "name": "stdout",
     "output_type": "stream",
     "text": [
      "\n"
     ]
    },
    {
     "data": {
      "image/png": "[encoded data removed]",
      "text/plain": [
       "<Figure size 432x288 with 1 Axes>"
      ]
     },
     "metadata": {
      "needs_background": "light"
     },
     "output_type": "display_data"
    },
    {
     "name": "stdout",
     "output_type": "stream",
     "text": [
      "Nearest neighbour is: 398\n",
      "k1: 1007\n"
     ]
    },
    {
     "data": {
      "application/vnd.jupyter.widget-view+json": {
       "model_id": "f0fb1bc1aeb548d2b805ff9bae61e652",
       "version_major": 2,
       "version_minor": 0
      },
      "text/plain": [
       "HBox(children=(HTML(value=''), FloatProgress(value=0.0, max=2966.0), HTML(value='')))"
      ]
     },
     "metadata": {},
     "output_type": "display_data"
    },
    {
     "name": "stdout",
     "output_type": "stream",
     "text": [
      "\n"
     ]
    },
    {
     "data": {
      "image/png": "[encoded data removed]",
      "text/plain": [
       "<Figure size 432x288 with 1 Axes>"
      ]
     },
     "metadata": {
      "needs_background": "light"
     },
     "output_type": "display_data"
    },
    {
     "name": "stdout",
     "output_type": "stream",
     "text": [
      "Nearest neighbour is: 260\n",
      "k1: 1008\n"
     ]
    },
    {
     "data": {
      "application/vnd.jupyter.widget-view+json": {
       "model_id": "02f193a011f4462c86861564ac784b20",
       "version_major": 2,
       "version_minor": 0
      },
      "text/plain": [
       "HBox(children=(HTML(value=''), FloatProgress(value=0.0, max=2966.0), HTML(value='')))"
      ]
     },
     "metadata": {},
     "output_type": "display_data"
    },
    {
     "name": "stdout",
     "output_type": "stream",
     "text": [
      "\n"
     ]
    },
    {
     "ename": "KeyboardInterrupt",
     "evalue": "",
     "output_type": "error",
     "traceback": [
      "\u001b[0;31m---------------------------------------------------------------------------\u001b[0m",
      "\u001b[0;31mKeyboardInterrupt\u001b[0m                         Traceback (most recent call last)",
      "\u001b[0;32m<ipython-input-13-e55fea464cac>\u001b[0m in \u001b[0;36m<module>\u001b[0;34m\u001b[0m\n\u001b[1;32m     11\u001b[0m     \u001b[0;32mfor\u001b[0m \u001b[0mk2\u001b[0m \u001b[0;32min\u001b[0m \u001b[0mtqdm\u001b[0m\u001b[0;34m(\u001b[0m\u001b[0mrange\u001b[0m\u001b[0;34m(\u001b[0m\u001b[0;36m2966\u001b[0m\u001b[0;34m)\u001b[0m\u001b[0;34m)\u001b[0m\u001b[0;34m:\u001b[0m\u001b[0;34m\u001b[0m\u001b[0;34m\u001b[0m\u001b[0m\n\u001b[1;32m     12\u001b[0m         \u001b[0mim2\u001b[0m \u001b[0;34m=\u001b[0m \u001b[0mnp\u001b[0m\u001b[0;34m.\u001b[0m\u001b[0mload\u001b[0m\u001b[0;34m(\u001b[0m\u001b[0mfilepath\u001b[0m \u001b[0;34m+\u001b[0m \u001b[0;34m'images/'\u001b[0m \u001b[0;34m+\u001b[0m \u001b[0mtrain_files\u001b[0m\u001b[0;34m[\u001b[0m\u001b[0mk2\u001b[0m\u001b[0;34m]\u001b[0m\u001b[0;34m[\u001b[0m\u001b[0;34m:\u001b[0m\u001b[0;34m-\u001b[0m\u001b[0;36m5\u001b[0m\u001b[0;34m]\u001b[0m \u001b[0;34m+\u001b[0m \u001b[0;34m'.npy'\u001b[0m\u001b[0;34m)\u001b[0m\u001b[0;34m\u001b[0m\u001b[0;34m\u001b[0m\u001b[0m\n\u001b[0;32m---> 13\u001b[0;31m         \u001b[0md\u001b[0m \u001b[0;34m=\u001b[0m \u001b[0mdist\u001b[0m\u001b[0;34m(\u001b[0m\u001b[0mim1\u001b[0m\u001b[0;34m,\u001b[0m \u001b[0mim2\u001b[0m\u001b[0;34m)\u001b[0m\u001b[0;34m\u001b[0m\u001b[0;34m\u001b[0m\u001b[0m\n\u001b[0m\u001b[1;32m     14\u001b[0m         \u001b[0;32mif\u001b[0m \u001b[0md\u001b[0m \u001b[0;34m<\u001b[0m \u001b[0mmin_d\u001b[0m \u001b[0;32mand\u001b[0m \u001b[0mk2\u001b[0m \u001b[0;34m!=\u001b[0m \u001b[0mk1\u001b[0m\u001b[0;34m:\u001b[0m\u001b[0;34m\u001b[0m\u001b[0;34m\u001b[0m\u001b[0m\n\u001b[1;32m     15\u001b[0m             \u001b[0mmin_k\u001b[0m \u001b[0;34m=\u001b[0m \u001b[0mk2\u001b[0m\u001b[0;34m\u001b[0m\u001b[0;34m\u001b[0m\u001b[0m\n",
      "\u001b[0;32m<ipython-input-8-eeb4ad9e7dcf>\u001b[0m in \u001b[0;36mdist\u001b[0;34m(im1, im2)\u001b[0m\n\u001b[1;32m     86\u001b[0m \u001b[0;31m# Computes distance between two crystals\u001b[0m\u001b[0;34m\u001b[0m\u001b[0;34m\u001b[0m\u001b[0;34m\u001b[0m\u001b[0m\n\u001b[1;32m     87\u001b[0m \u001b[0;32mdef\u001b[0m \u001b[0mdist\u001b[0m\u001b[0;34m(\u001b[0m\u001b[0mim1\u001b[0m\u001b[0;34m,\u001b[0m \u001b[0mim2\u001b[0m\u001b[0;34m)\u001b[0m\u001b[0;34m:\u001b[0m\u001b[0;34m\u001b[0m\u001b[0;34m\u001b[0m\u001b[0m\n\u001b[0;32m---> 88\u001b[0;31m     \u001b[0md\u001b[0m \u001b[0;34m=\u001b[0m \u001b[0mdist_layer_sim\u001b[0m\u001b[0;34m(\u001b[0m\u001b[0mim1\u001b[0m\u001b[0;34m[\u001b[0m\u001b[0;34m:\u001b[0m\u001b[0;34m,\u001b[0m\u001b[0;34m:\u001b[0m\u001b[0;34m,\u001b[0m\u001b[0;36m1\u001b[0m\u001b[0;34m]\u001b[0m\u001b[0;34m,\u001b[0m \u001b[0mim2\u001b[0m\u001b[0;34m[\u001b[0m\u001b[0;34m:\u001b[0m\u001b[0;34m,\u001b[0m\u001b[0;34m:\u001b[0m\u001b[0;34m,\u001b[0m\u001b[0;36m1\u001b[0m\u001b[0;34m]\u001b[0m\u001b[0;34m)\u001b[0m\u001b[0;34m\u001b[0m\u001b[0;34m\u001b[0m\u001b[0m\n\u001b[0m\u001b[1;32m     89\u001b[0m \u001b[0;34m\u001b[0m\u001b[0m\n\u001b[1;32m     90\u001b[0m     \u001b[0md00\u001b[0m \u001b[0;34m=\u001b[0m \u001b[0mdist_layer_sim\u001b[0m\u001b[0;34m(\u001b[0m\u001b[0mim1\u001b[0m\u001b[0;34m[\u001b[0m\u001b[0;34m:\u001b[0m\u001b[0;34m,\u001b[0m\u001b[0;34m:\u001b[0m\u001b[0;34m,\u001b[0m\u001b[0;36m0\u001b[0m\u001b[0;34m]\u001b[0m\u001b[0;34m,\u001b[0m \u001b[0mim2\u001b[0m\u001b[0;34m[\u001b[0m\u001b[0;34m:\u001b[0m\u001b[0;34m,\u001b[0m\u001b[0;34m:\u001b[0m\u001b[0;34m,\u001b[0m\u001b[0;36m0\u001b[0m\u001b[0;34m]\u001b[0m\u001b[0;34m)\u001b[0m\u001b[0;34m\u001b[0m\u001b[0;34m\u001b[0m\u001b[0m\n",
      "\u001b[0;32m<ipython-input-8-eeb4ad9e7dcf>\u001b[0m in \u001b[0;36mdist_layer_sim\u001b[0;34m(l1, l2)\u001b[0m\n\u001b[1;32m     78\u001b[0m     \u001b[0md_sim_h\u001b[0m \u001b[0;34m=\u001b[0m \u001b[0mdist_layer\u001b[0m\u001b[0;34m(\u001b[0m\u001b[0ml1\u001b[0m\u001b[0;34m,\u001b[0m \u001b[0ml2\u001b[0m\u001b[0;34m[\u001b[0m\u001b[0;34m:\u001b[0m\u001b[0;34m,\u001b[0m\u001b[0;34m:\u001b[0m\u001b[0;34m:\u001b[0m\u001b[0;34m-\u001b[0m\u001b[0;36m1\u001b[0m\u001b[0;34m]\u001b[0m\u001b[0;34m)\u001b[0m\u001b[0;34m\u001b[0m\u001b[0;34m\u001b[0m\u001b[0m\n\u001b[1;32m     79\u001b[0m     \u001b[0md_sim_v\u001b[0m \u001b[0;34m=\u001b[0m \u001b[0mdist_layer\u001b[0m\u001b[0;34m(\u001b[0m\u001b[0ml1\u001b[0m\u001b[0;34m,\u001b[0m \u001b[0ml2\u001b[0m\u001b[0;34m[\u001b[0m\u001b[0;34m:\u001b[0m\u001b[0;34m:\u001b[0m\u001b[0;34m-\u001b[0m\u001b[0;36m1\u001b[0m\u001b[0;34m,\u001b[0m\u001b[0;34m:\u001b[0m\u001b[0;34m]\u001b[0m\u001b[0;34m)\u001b[0m\u001b[0;34m\u001b[0m\u001b[0;34m\u001b[0m\u001b[0m\n\u001b[0;32m---> 80\u001b[0;31m     \u001b[0md_sim\u001b[0m \u001b[0;34m=\u001b[0m \u001b[0mdist_layer\u001b[0m\u001b[0;34m(\u001b[0m\u001b[0ml1\u001b[0m\u001b[0;34m,\u001b[0m \u001b[0ml2\u001b[0m\u001b[0;34m[\u001b[0m\u001b[0;34m:\u001b[0m\u001b[0;34m:\u001b[0m\u001b[0;34m-\u001b[0m\u001b[0;36m1\u001b[0m\u001b[0;34m,\u001b[0m\u001b[0;34m:\u001b[0m\u001b[0;34m:\u001b[0m\u001b[0;34m-\u001b[0m\u001b[0;36m1\u001b[0m\u001b[0;34m]\u001b[0m\u001b[0;34m)\u001b[0m\u001b[0;34m\u001b[0m\u001b[0;34m\u001b[0m\u001b[0m\n\u001b[0m\u001b[1;32m     81\u001b[0m     \u001b[0md_rot_1\u001b[0m \u001b[0;34m=\u001b[0m \u001b[0mdist_layer\u001b[0m\u001b[0;34m(\u001b[0m\u001b[0ml1\u001b[0m\u001b[0;34m,\u001b[0m \u001b[0mnp\u001b[0m\u001b[0;34m.\u001b[0m\u001b[0mrot90\u001b[0m\u001b[0;34m(\u001b[0m\u001b[0ml2\u001b[0m\u001b[0;34m)\u001b[0m\u001b[0;34m)\u001b[0m\u001b[0;34m\u001b[0m\u001b[0;34m\u001b[0m\u001b[0m\n\u001b[1;32m     82\u001b[0m     \u001b[0md_rot_2\u001b[0m \u001b[0;34m=\u001b[0m \u001b[0mdist_layer\u001b[0m\u001b[0;34m(\u001b[0m\u001b[0ml1\u001b[0m\u001b[0;34m,\u001b[0m \u001b[0mnp\u001b[0m\u001b[0;34m.\u001b[0m\u001b[0mrot90\u001b[0m\u001b[0;34m(\u001b[0m\u001b[0ml2\u001b[0m\u001b[0;34m,\u001b[0m \u001b[0mk\u001b[0m\u001b[0;34m=\u001b[0m\u001b[0;36m2\u001b[0m\u001b[0;34m)\u001b[0m\u001b[0;34m)\u001b[0m\u001b[0;34m\u001b[0m\u001b[0;34m\u001b[0m\u001b[0m\n",
      "\u001b[0;32m<ipython-input-8-eeb4ad9e7dcf>\u001b[0m in \u001b[0;36mdist_layer\u001b[0;34m(l1, l2)\u001b[0m\n\u001b[1;32m     56\u001b[0m                 \u001b[0md\u001b[0m \u001b[0;34m+=\u001b[0m \u001b[0;36m15\u001b[0m\u001b[0;34m\u001b[0m\u001b[0;34m\u001b[0m\u001b[0m\n\u001b[1;32m     57\u001b[0m             \u001b[0;32melse\u001b[0m\u001b[0;34m:\u001b[0m\u001b[0;34m\u001b[0m\u001b[0;34m\u001b[0m\u001b[0m\n\u001b[0;32m---> 58\u001b[0;31m                 \u001b[0md\u001b[0m \u001b[0;34m+=\u001b[0m \u001b[0mnp\u001b[0m\u001b[0;34m.\u001b[0m\u001b[0msqrt\u001b[0m\u001b[0;34m(\u001b[0m\u001b[0mnorm\u001b[0m\u001b[0;34m(\u001b[0m\u001b[0mv\u001b[0m\u001b[0;34m)\u001b[0m\u001b[0;34m)\u001b[0m\u001b[0;34m\u001b[0m\u001b[0;34m\u001b[0m\u001b[0m\n\u001b[0m\u001b[1;32m     59\u001b[0m     \u001b[0ml1_se\u001b[0m \u001b[0;34m=\u001b[0m \u001b[0mnp\u001b[0m\u001b[0;34m.\u001b[0m\u001b[0msum\u001b[0m\u001b[0;34m(\u001b[0m\u001b[0ml1\u001b[0m\u001b[0;34m==\u001b[0m\u001b[0;36m34\u001b[0m\u001b[0;34m)\u001b[0m\u001b[0;34m\u001b[0m\u001b[0;34m\u001b[0m\u001b[0m\n\u001b[1;32m     60\u001b[0m     \u001b[0ml2_se\u001b[0m \u001b[0;34m=\u001b[0m \u001b[0mnp\u001b[0m\u001b[0;34m.\u001b[0m\u001b[0msum\u001b[0m\u001b[0;34m(\u001b[0m\u001b[0ml2\u001b[0m\u001b[0;34m==\u001b[0m\u001b[0;36m34\u001b[0m\u001b[0;34m)\u001b[0m\u001b[0;34m\u001b[0m\u001b[0;34m\u001b[0m\u001b[0m\n",
      "\u001b[0;31mKeyboardInterrupt\u001b[0m: "
     ]
    }
   ],
   "source": [
    "from tqdm.notebook import tqdm\n",
    "\n",
    "for k1 in range(1000,2000):\n",
    "    print('k1:', k1)\n",
    "    im1 = np.load(filepath + 'images/' + train_files[k1][:-5] + '.npy')\n",
    "    crystal_dist = []\n",
    "    band_gap_dist = []\n",
    "    min_k = -1\n",
    "    min_d = 100\n",
    "    # Compute distances\n",
    "    for k2 in tqdm(range(2966)):\n",
    "        im2 = np.load(filepath + 'images/' + train_files[k2][:-5] + '.npy')\n",
    "        d = dist(im1, im2)\n",
    "        if d < min_d and k2 != k1:\n",
    "            min_k = k2\n",
    "            min_d = d\n",
    "        crystal_dist.append(d)\n",
    "        band_gap_dist.append(np.abs(targets.loc[train_files[k1][:-5]] - targets.loc[train_files[k2][:-5]])[0])\n",
    "\n",
    "    # Save distances\n",
    "    aux_dist = pd.DataFrame(data={'dist':crystal_dist}, index=train_files)\n",
    "    aux_dist.to_csv(filepath + 'distances/' + train_files[k1][:-5] + '.csv')\n",
    "\n",
    "    # Visualize distances\n",
    "    plt.scatter(crystal_dist, band_gap_dist, s=2)\n",
    "    abline(0,0.02)\n",
    "    plt.show()\n",
    "    print('Nearest neighbour is:', min_k)"
   ]
  },
  {
   "cell_type": "code",
   "execution_count": 43,
   "id": "1f7c2d5f",
   "metadata": {},
   "outputs": [],
   "source": [
    "y = np.array(targets.index)\n",
    "x = np.array([x[:-5] for x in train_files])\n",
    "\n",
    "index = np.argsort(x)\n",
    "sorted_x = x[index]\n",
    "sorted_index = np.searchsorted(sorted_x, y)\n",
    "\n",
    "yindex = np.take(index, sorted_index, mode=\"clip\")\n",
    "mask = x[yindex] != y\n",
    "\n",
    "result = np.ma.array(yindex, mask=mask)"
   ]
  },
  {
   "cell_type": "code",
   "execution_count": 44,
   "id": "df2a7569",
   "metadata": {},
   "outputs": [],
   "source": [
    "targets['id_number'] = result"
   ]
  },
  {
   "cell_type": "code",
   "execution_count": 47,
   "id": "65b40e1f",
   "metadata": {},
   "outputs": [
    {
     "data": {
      "text/html": [
       "<div>\n",
       "<style scoped>\n",
       "    .dataframe tbody tr th:only-of-type {\n",
       "        vertical-align: middle;\n",
       "    }\n",
       "\n",
       "    .dataframe tbody tr th {\n",
       "        vertical-align: top;\n",
       "    }\n",
       "\n",
       "    .dataframe thead th {\n",
       "        text-align: right;\n",
       "    }\n",
       "</style>\n",
       "<table border=\"1\" class=\"dataframe\">\n",
       "  <thead>\n",
       "    <tr style=\"text-align: right;\">\n",
       "      <th></th>\n",
       "      <th>band_gap</th>\n",
       "      <th>id_number</th>\n",
       "    </tr>\n",
       "    <tr>\n",
       "      <th>_id</th>\n",
       "      <th></th>\n",
       "      <th></th>\n",
       "    </tr>\n",
       "  </thead>\n",
       "  <tbody>\n",
       "    <tr>\n",
       "      <th>6141cf60ee0a3fd43fb47a2f</th>\n",
       "      <td>0.2663</td>\n",
       "      <td>241</td>\n",
       "    </tr>\n",
       "    <tr>\n",
       "      <th>6142725fee0a3fd43fb47f59</th>\n",
       "      <td>0.2666</td>\n",
       "      <td>2783</td>\n",
       "    </tr>\n",
       "  </tbody>\n",
       "</table>\n",
       "</div>"
      ],
      "text/plain": [
       "                          band_gap  id_number\n",
       "_id                                          \n",
       "6141cf60ee0a3fd43fb47a2f    0.2663        241\n",
       "6142725fee0a3fd43fb47f59    0.2666       2783"
      ]
     },
     "execution_count": 47,
     "metadata": {},
     "output_type": "execute_result"
    }
   ],
   "source": [
    "targets[(targets.band_gap>0.266) & (targets.band_gap<0.267)]"
   ]
  },
  {
   "cell_type": "code",
   "execution_count": 14,
   "id": "561b4879",
   "metadata": {},
   "outputs": [],
   "source": [
    "from multiprocessing import Pool\n",
    "\n",
    "def compute_distances_from_sample(k1):\n",
    "    print('k1:', k1)\n",
    "    im1 = np.load(filepath + 'images/' + train_files[k1][:-5] + '.npy')\n",
    "    crystal_dist = []\n",
    "    band_gap_dist = []\n",
    "    min_k = -1\n",
    "    min_d = 100\n",
    "    # Compute distances\n",
    "    for k2 in tqdm(range(2966)):\n",
    "        im2 = np.load(filepath + 'images/' + train_files[k2][:-5] + '.npy')\n",
    "        d = dist(im1, im2)\n",
    "        if d < min_d and k2 != k1:\n",
    "            min_k = k2\n",
    "            min_d = d\n",
    "        crystal_dist.append(d)\n",
    "        band_gap_dist.append(np.abs(targets.loc[train_files[k1][:-5]] - targets.loc[train_files[k2][:-5]])[0])\n",
    "\n",
    "    # Save distances\n",
    "    aux_dist = pd.DataFrame(data={'dist':crystal_dist}, index=train_files)\n",
    "    aux_dist.to_csv(filepath + 'distances/' + train_files[k1][:-5] + '.csv')\n",
    "\n",
    "    # Visualize distances\n",
    "    plt.scatter(crystal_dist, band_gap_dist, s=2)\n",
    "    abline(0,0.02)\n",
    "    plt.show()\n",
    "    print('Nearest neighbour is:', min_k)"
   ]
  },
  {
   "cell_type": "code",
   "execution_count": null,
   "id": "38cf34d7",
   "metadata": {},
   "outputs": [
    {
     "name": "stdout",
     "output_type": "stream",
     "text": [
      "k1:k1:k1:k1:    1002100110031000\n",
      "\n",
      "\n",
      "\n"
     ]
    },
    {
     "data": {
      "application/vnd.jupyter.widget-view+json": {
       "model_id": "15307b57f3bb48638c5b469798886654",
       "version_major": 2,
       "version_minor": 0
      },
      "text/plain": [
       "HBox(children=(HTML(value=''), FloatProgress(value=0.0, max=2966.0), HTML(value='')))"
      ]
     },
     "metadata": {},
     "output_type": "display_data"
    },
    {
     "data": {
      "application/vnd.jupyter.widget-view+json": {
       "model_id": "6b1e6f4f969146af86fb15a0101dd1f5",
       "version_major": 2,
       "version_minor": 0
      },
      "text/plain": [
       "HBox(children=(HTML(value=''), FloatProgress(value=0.0, max=2966.0), HTML(value='')))"
      ]
     },
     "metadata": {},
     "output_type": "display_data"
    },
    {
     "data": {
      "application/vnd.jupyter.widget-view+json": {
       "model_id": "fac4670f72284dbda153f1fa9e207b79",
       "version_major": 2,
       "version_minor": 0
      },
      "text/plain": [
       "HBox(children=(HTML(value=''), FloatProgress(value=0.0, max=2966.0), HTML(value='')))"
      ]
     },
     "metadata": {},
     "output_type": "display_data"
    },
    {
     "data": {
      "application/vnd.jupyter.widget-view+json": {
       "model_id": "d438ad6751b744e490b165c221a4b60f",
       "version_major": 2,
       "version_minor": 0
      },
      "text/plain": [
       "HBox(children=(HTML(value=''), FloatProgress(value=0.0, max=2966.0), HTML(value='')))"
      ]
     },
     "metadata": {},
     "output_type": "display_data"
    }
   ],
   "source": [
    "n_threads = 4\n",
    "my_range = [(i,) for i in list(range(1000, 1005))]\n",
    "\n",
    "with Pool(n_threads, maxtasksperchild=1000) as p:\n",
    "    p.starmap(compute_distances_from_sample, my_range)"
   ]
  },
  {
   "cell_type": "code",
   "execution_count": null,
   "id": "35a91174",
   "metadata": {},
   "outputs": [],
   "source": []
  }
 ],
 "metadata": {
  "kernelspec": {
   "display_name": "crystal",
   "language": "python",
   "name": "crystal"
  },
  "language_info": {
   "codemirror_mode": {
    "name": "ipython",
    "version": 3
   },
   "file_extension": ".py",
   "mimetype": "text/x-python",
   "name": "python",
   "nbconvert_exporter": "python",
   "pygments_lexer": "ipython3",
   "version": "3.9.10"
  }
 },
 "nbformat": 4,
 "nbformat_minor": 5
}
