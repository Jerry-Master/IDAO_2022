{
 "cells": [
  {
   "cell_type": "code",
   "execution_count": 1,
   "id": "c0d66ccc",
   "metadata": {},
   "outputs": [],
   "source": [
    "import json\n",
    "from pymatgen.core import Lattice, Structure, Molecule"
   ]
  },
  {
   "cell_type": "code",
   "execution_count": 2,
   "id": "5b6c4ab1",
   "metadata": {},
   "outputs": [],
   "source": [
    "def read_pymatgen_dict(file):\n",
    "    with open(file, \"r\") as f:\n",
    "        d = json.load(f)\n",
    "    return Structure.from_dict(d)"
   ]
  },
  {
   "cell_type": "code",
   "execution_count": 3,
   "id": "95751900",
   "metadata": {},
   "outputs": [],
   "source": [
    "import os\n",
    "\n",
    "filepath_train = 'dichalcogenides_public/structures/'\n",
    "train_files = os.listdir(filepath_train)\n",
    "\n",
    "filepath_test = 'dichalcogenides_private/structures/'\n",
    "test_files = os.listdir(filepath_test)"
   ]
  },
  {
   "cell_type": "code",
   "execution_count": 307,
   "id": "59c93d05",
   "metadata": {},
   "outputs": [],
   "source": [
    "import numpy as np\n",
    "\n",
    "def graph_to_img(crystal):\n",
    "    # Transform to dictionary\n",
    "    crystal_d = crystal.as_dict()\n",
    "    \n",
    "    # Retrieve coordinates relative to grid\n",
    "    abc = np.array([aux['abc'] for aux in crystal_d['sites']])\n",
    "    abc_t = abc.transpose()\n",
    "    a = set(abc_t[0])\n",
    "    b = set(abc_t[1])\n",
    "    c = set(abc_t[2])\n",
    "\n",
    "    # Dictionaries to transform from abc to grid index\n",
    "    a_parser = dict(list(zip(sorted(a), range(len(a)))))\n",
    "    b_parser = dict(list(zip(sorted(b), range(len(b)))))\n",
    "    c_parser = dict(list(zip(sorted(c), range(len(c)))))\n",
    "\n",
    "    coords = [(a_parser[x['abc'][0]], b_parser[x['abc'][1]], c_parser[x['abc'][2]], x['label']) for x in crystal_d['sites']] \n",
    "    \n",
    "    # Transform element label to atomic number\n",
    "    Z = {'Mo': 42, 'W': 74, 'S': 16, 'Se': 34}\n",
    "    coords = [(x[0] // 2, x[1] // 2, x[2], Z[x[3]]) for x in coords]\n",
    "    \n",
    "    # Add missing atoms of the grid with atomic number of 0\n",
    "    grid = set([(i,j) for i in range(8) for j in range(8)])\n",
    "\n",
    "    crystal_grid0 = set([(x[0],x[1]) for x in coords if x[2] == 0])\n",
    "    crystal_grid1 = set([(x[0],x[1]) for x in coords if x[2] == 1])\n",
    "    crystal_grid2 = set([(x[0],x[1]) for x in coords if x[2] == 2])\n",
    "\n",
    "    dif0 = grid.difference(crystal_grid0)\n",
    "    dif1 = grid.difference(crystal_grid1)\n",
    "    dif2 = grid.difference(crystal_grid2)\n",
    "    \n",
    "    add0 = [(x[0], x[1], 0, 0) for x in dif0]\n",
    "    add1 = [(x[0], x[1], 1, 0) for x in dif1]\n",
    "    add2 = [(x[0], x[1], 2, 0) for x in dif2]\n",
    "    \n",
    "    coords.extend(add0)\n",
    "    coords.extend(add1)\n",
    "    coords.extend(add2)\n",
    "    \n",
    "    assert((8*8*3 - len(coords)) == 0)\n",
    "    \n",
    "    # Sort and reshape into image\n",
    "    coords.sort(key=lambda x: (x[2],x[0],x[1]))\n",
    "    coords = np.array(coords, dtype=np.uint8)\n",
    "\n",
    "    coords_v = coords[:,3]\n",
    "    img = coords_v.reshape((3,8,8))\n",
    "    img = img.transpose((1,2,0))\n",
    "    return img"
   ]
  },
  {
   "cell_type": "code",
   "execution_count": 376,
   "id": "f1c9896c",
   "metadata": {},
   "outputs": [],
   "source": [
    "import matplotlib.pyplot as plt\n",
    "\n",
    "def plot_crystal(crystal):\n",
    "    img = graph_to_img(crystal)\n",
    "    fig, ax = plt.subplots(1,3, figsize=(10,10))\n",
    "    im = ax[0].imshow(img[:,:,0], cmap='Blues', vmin=0, vmax=255)\n",
    "    im = ax[1].imshow(img[:,:,1], cmap='Blues', vmin=0, vmax=255)\n",
    "    im = ax[2].imshow(img[:,:,2], cmap='Blues', vmin=0, vmax=255)\n",
    "    fig.subplots_adjust(right=0.8)\n",
    "    cbar_ax = fig.add_axes([0.85, 0.4, 0.03, 0.2])\n",
    "    fig.colorbar(im, cax=cbar_ax)\n",
    "    plt.show()"
   ]
  },
  {
   "cell_type": "code",
   "execution_count": 386,
   "id": "ccfaacff",
   "metadata": {},
   "outputs": [],
   "source": [
    "file = train_files[30]\n",
    "crystal = read_pymatgen_dict(filepath_train+file)"
   ]
  },
  {
   "cell_type": "code",
   "execution_count": 388,
   "id": "0894d5b5",
   "metadata": {},
   "outputs": [
    {
     "data": {
      "image/png": "[encoded data removed]",
      "text/plain": [
       "<Figure size 720x720 with 4 Axes>"
      ]
     },
     "metadata": {
      "needs_background": "light"
     },
     "output_type": "display_data"
    },
    {
     "name": "stdout",
     "output_type": "stream",
     "text": [
      "CPU times: user 507 ms, sys: 22.8 ms, total: 530 ms\n",
      "Wall time: 493 ms\n"
     ]
    }
   ],
   "source": [
    "%%time\n",
    "plot_crystal(crystal)"
   ]
  },
  {
   "cell_type": "code",
   "execution_count": 387,
   "id": "6886d62b",
   "metadata": {},
   "outputs": [
    {
     "name": "stdout",
     "output_type": "stream",
     "text": [
      "CPU times: user 33.8 ms, sys: 6.99 ms, total: 40.8 ms\n",
      "Wall time: 38.6 ms\n"
     ]
    }
   ],
   "source": [
    "%%time\n",
    "img = graph_to_img(crystal)"
   ]
  },
  {
   "cell_type": "code",
   "execution_count": 407,
   "id": "0c5da922",
   "metadata": {},
   "outputs": [],
   "source": [
    "for file in train_files:\n",
    "    crystal = read_pymatgen_dict(filepath_train+file)\n",
    "    img = graph_to_img(crystal)\n",
    "    np.save(filepath_train[:-11] + 'images/' + file[:-5], img)"
   ]
  },
  {
   "cell_type": "code",
   "execution_count": 408,
   "id": "676b5007",
   "metadata": {},
   "outputs": [
    {
     "name": "stdout",
     "output_type": "stream",
     "text": [
      "CPU times: user 1min 17s, sys: 1.53 s, total: 1min 19s\n",
      "Wall time: 1min 21s\n"
     ]
    }
   ],
   "source": [
    "%%time\n",
    "for file in test_files:\n",
    "    crystal = read_pymatgen_dict(filepath_test+file)\n",
    "    img = graph_to_img(crystal)\n",
    "    np.save(filepath_test[:-11] + 'images/' + file[:-5], img)"
   ]
  },
  {
   "cell_type": "code",
   "execution_count": null,
   "id": "c0ce9fae",
   "metadata": {},
   "outputs": [],
   "source": []
  }
 ],
 "metadata": {
  "kernelspec": {
   "display_name": "crystal",
   "language": "python",
   "name": "crystal"
  },
  "language_info": {
   "codemirror_mode": {
    "name": "ipython",
    "version": 3
   },
   "file_extension": ".py",
   "mimetype": "text/x-python",
   "name": "python",
   "nbconvert_exporter": "python",
   "pygments_lexer": "ipython3",
   "version": "3.9.10"
  }
 },
 "nbformat": 4,
 "nbformat_minor": 5
}
