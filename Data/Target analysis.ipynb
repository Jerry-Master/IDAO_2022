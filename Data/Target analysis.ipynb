{
 "cells": [
  {
   "cell_type": "code",
   "execution_count": 1,
   "id": "44c201b4",
   "metadata": {},
   "outputs": [],
   "source": [
    "import pandas as pd\n",
    "import numpy as np\n",
    "import matplotlib.pyplot as plt"
   ]
  },
  {
   "cell_type": "code",
   "execution_count": 3,
   "id": "190099d9",
   "metadata": {},
   "outputs": [],
   "source": [
    "filepath = 'dichalcogenides_public/'\n",
    "targets = pd.read_csv(filepath + 'targets.csv', index_col=0)"
   ]
  },
  {
   "cell_type": "code",
   "execution_count": 32,
   "id": "78729499",
   "metadata": {},
   "outputs": [
    {
     "data": {
      "image/png": "[encoded data removed]",
      "text/plain": [
       "<Figure size 432x288 with 1 Axes>"
      ]
     },
     "metadata": {
      "needs_background": "light"
     },
     "output_type": "display_data"
    }
   ],
   "source": [
    "out = plt.hist(targets, bins=86)\n",
    "plt.show()"
   ]
  },
  {
   "cell_type": "code",
   "execution_count": 43,
   "id": "c9500f13",
   "metadata": {},
   "outputs": [
    {
     "data": {
      "text/plain": [
       "(1.1319046511627906, 1.1518662790697674)"
      ]
     },
     "execution_count": 43,
     "metadata": {},
     "output_type": "execute_result"
    }
   ],
   "source": [
    "(out[1][np.where(out[0]==692)[0][0]], out[1][np.where(out[0]==692)[0][0]+1])"
   ]
  },
  {
   "cell_type": "code",
   "execution_count": 51,
   "id": "f30353a0",
   "metadata": {},
   "outputs": [
    {
     "data": {
      "text/plain": [
       "array([  1.,   1.,   0.,   1.,   0.,   1.,   0.,   2.,  24.,  81.,  90.,\n",
       "         9., 151., 366., 144., 239., 332.,  14.,   0.,   0.,   1.,   0.,\n",
       "         1.,   0.,   0.,   0.,   0.,   8.,  11.,   0.,   1.,   0.,   0.,\n",
       "         0.,   0.,   0.,   0.,   0.,   0.,   0.,   0.,   0.,  12.,  20.,\n",
       "         0.,  17.,   2.,  19.,   2.,  74., 196.,  35., 692.,   5.,  39.,\n",
       "         1.,   0.,   0.,   0.,   0.,   0.,   0.,   0.,   0.,   0.,   0.,\n",
       "         0.,   0.,   0.,   0.,   0.,   0.,   0.,   0.,   0.,   0.,   0.,\n",
       "         0.,   0.,   0.,   0.,   0.,   0.,   0.,   0., 374.])"
      ]
     },
     "execution_count": 51,
     "metadata": {},
     "output_type": "execute_result"
    }
   ],
   "source": [
    "out[0]"
   ]
  },
  {
   "cell_type": "code",
   "execution_count": 50,
   "id": "35e4c7f7",
   "metadata": {},
   "outputs": [
    {
     "data": {
      "text/plain": [
       "0.5947403910991234"
      ]
     },
     "execution_count": 50,
     "metadata": {},
     "output_type": "execute_result"
    }
   ],
   "source": [
    "(692+374+366+332) / out[0].sum()"
   ]
  },
  {
   "cell_type": "code",
   "execution_count": 126,
   "id": "aa999e27",
   "metadata": {},
   "outputs": [],
   "source": [
    "import os\n",
    "\n",
    "filepath_train = '../Data/dichalcogenides_public/structures/'\n",
    "train_files = os.listdir(filepath_train)\n",
    "\n",
    "filepath_test = '../Data/dichalcogenides_private/structures/'\n",
    "test_files = os.listdir(filepath_test)\n",
    "\n",
    "targets = pd.read_csv('../Data/dichalcogenides_public/targets.csv', index_col=0)"
   ]
  },
  {
   "cell_type": "code",
   "execution_count": 180,
   "id": "42b409e0",
   "metadata": {},
   "outputs": [],
   "source": [
    "# Returns euclidean norm of 2D vector\n",
    "def norm(v):\n",
    "    return np.sqrt(v[0] * v[0] + v[1] * v[1])\n",
    "\n",
    "# Returns the vector joining l1[i,j] with the pixel in l2\n",
    "# that is closer and has the same value\n",
    "def movement_vector(l1, l2, i, j):\n",
    "    n, m = l2.shape\n",
    "    min_dist = 100\n",
    "    v = (-100,-100)\n",
    "    for ii in range(n):\n",
    "        for jj in range(m):\n",
    "            if (l1[i,j] == l2[ii,jj]):\n",
    "                n = norm((ii-i, jj-j))\n",
    "                if n == 0:\n",
    "                    return (ii-i, jj-j)\n",
    "                if n < min_dist:\n",
    "                    v = (ii-i, jj-j)\n",
    "                    min_dist = n\n",
    "    return v\n",
    "\n",
    "# Computes the distance between two layers as the sum of\n",
    "# the norm of the movement vectors of all pixels\n",
    "# A term accounting for the difference in the number of \n",
    "# imperfections is also added\n",
    "def dist_layer(l1, l2):\n",
    "    n, m = l1.shape\n",
    "    d = 0\n",
    "    for i in range(n):\n",
    "        for j in range(m):\n",
    "            v = movement_vector(l1, l2, i, j)\n",
    "            if v[0] == -100:\n",
    "                d += 15\n",
    "            else:\n",
    "                d += norm(v)\n",
    "    l1_se = np.sum(l1==34)\n",
    "    l2_se = np.sum(l2==34)\n",
    "    se_diff = np.abs(l1_se-l2_se)\n",
    "    \n",
    "    l1_void = np.sum(l1==0)\n",
    "    l2_void = np.sum(l2==0)\n",
    "    void_diff = np.abs(l1_void-l2_void)\n",
    "    \n",
    "    l1_w = np.sum(l1==74)\n",
    "    l2_w = np.sum(l2==74)\n",
    "    w_diff = np.abs(l1_w-l2_w)\n",
    "    \n",
    "    d += se_diff * 5 + void_diff * 5 + w_diff * 5\n",
    "    return d\n",
    "\n",
    "# Computes distance between l1 and l2 considering possible \n",
    "# transformation like rotations and symmetries\n",
    "def dist_layer_sim(l1, l2):\n",
    "    d = dist_layer(l1, l2)\n",
    "    d_sim_h = dist_layer(l1, l2[:,::-1])\n",
    "    d_sim_v = dist_layer(l1, l2[::-1,:])\n",
    "    d_sim = dist_layer(l1, l2[::-1,::-1])\n",
    "    d_rot_1 = dist_layer(l1, np.rot90(l2))\n",
    "    d_rot_2 = dist_layer(l1, np.rot90(l2, k=2))\n",
    "    d_rot_3 = dist_layer(l1, np.rot90(l2, k=3))\n",
    "    return np.min([d, d_sim_v, d_sim_h, d_sim, d_rot_1, d_rot_2, d_rot_3])\n",
    "\n",
    "# Computes distance between two crystals\n",
    "def dist(im1, im2):\n",
    "    d = dist_layer_sim(im1[:,:,1], im2[:,:,1])\n",
    "    \n",
    "    d00 = dist_layer_sim(im1[:,:,0], im2[:,:,0])\n",
    "    d02 = dist_layer_sim(im1[:,:,0], im2[:,:,2])\n",
    "    d20 = dist_layer_sim(im1[:,:,2], im2[:,:,0])\n",
    "    d22 = dist_layer_sim(im1[:,:,2], im2[:,:,2])\n",
    "    \n",
    "    d += min(d00+d22, d02+d20)\n",
    "    return d"
   ]
  },
  {
   "cell_type": "code",
   "execution_count": 182,
   "id": "76b63585",
   "metadata": {},
   "outputs": [
    {
     "name": "stdout",
     "output_type": "stream",
     "text": [
      "Crystal distance: 31.650281539872886\n",
      "Band gap distance: 0.6669\n",
      "CPU times: user 168 ms, sys: 3.15 ms, total: 172 ms\n",
      "Wall time: 176 ms\n"
     ]
    }
   ],
   "source": [
    "%%time\n",
    "k1, k2 = 0, 500\n",
    "\n",
    "im1 = np.load(filepath + 'images/' + train_files[k1][:-5] + '.npy')\n",
    "im2 = np.load(filepath + 'images/' + train_files[k2][:-5] + '.npy')\n",
    "\n",
    "print('Crystal distance:', dist(im1, im2))\n",
    "print('Band gap distance:', np.abs(targets.loc[train_files[k1][:-5]] - targets.loc[train_files[k2][:-5]])[0])"
   ]
  },
  {
   "cell_type": "code",
   "execution_count": 147,
   "id": "938df20b",
   "metadata": {},
   "outputs": [],
   "source": [
    "def abline(slope, intercept):\n",
    "    \"\"\"Plot a line from slope and intercept\"\"\"\n",
    "    axes = plt.gca()\n",
    "    x_vals = np.array(axes.get_xlim())\n",
    "    y_vals = intercept + slope * x_vals\n",
    "    plt.plot(x_vals, y_vals, '--')"
   ]
  },
  {
   "cell_type": "code",
   "execution_count": 233,
   "id": "ce7f7c67",
   "metadata": {},
   "outputs": [],
   "source": [
    "k1 = 1120\n",
    "im1 = np.load(filepath + 'images/' + train_files[k1][:-5] + '.npy')\n",
    "crystal_dist = []\n",
    "band_gap_dist = []\n",
    "min_k = -1\n",
    "min_d = 100\n",
    "for k2 in range(100):\n",
    "    if k2 != k1: \n",
    "        im2 = np.load(filepath + 'images/' + train_files[k2][:-5] + '.npy')\n",
    "        d = dist(im1, im2)\n",
    "        if d < min_d:\n",
    "            min_k = k2\n",
    "            min_d = d\n",
    "        crystal_dist.append(d)\n",
    "        band_gap_dist.append(np.abs(targets.loc[train_files[k1][:-5]] - targets.loc[train_files[k2][:-5]])[0])"
   ]
  },
  {
   "cell_type": "code",
   "execution_count": 234,
   "id": "fca8bb92",
   "metadata": {},
   "outputs": [
    {
     "data": {
      "image/png": "[encoded data removed]",
      "text/plain": [
       "<Figure size 432x288 with 1 Axes>"
      ]
     },
     "metadata": {
      "needs_background": "light"
     },
     "output_type": "display_data"
    }
   ],
   "source": [
    "plt.scatter(crystal_dist, band_gap_dist, s=2)\n",
    "abline(0,0.02)\n",
    "plt.show()"
   ]
  },
  {
   "cell_type": "code",
   "execution_count": 235,
   "id": "f635735a",
   "metadata": {},
   "outputs": [
    {
     "name": "stdout",
     "output_type": "stream",
     "text": [
      "Nearest neighbour is: 37\n"
     ]
    }
   ],
   "source": [
    "print('Nearest neighbour is:', min_k)"
   ]
  },
  {
   "cell_type": "code",
   "execution_count": 228,
   "id": "de803d52",
   "metadata": {},
   "outputs": [],
   "source": [
    "y = np.array(targets.index)\n",
    "x = np.array([x[:-5] for x in train_files])\n",
    "\n",
    "index = np.argsort(x)\n",
    "sorted_x = x[index]\n",
    "sorted_index = np.searchsorted(sorted_x, y)\n",
    "\n",
    "yindex = np.take(index, sorted_index, mode=\"clip\")\n",
    "mask = x[yindex] != y\n",
    "\n",
    "result = np.ma.array(yindex, mask=mask)"
   ]
  },
  {
   "cell_type": "code",
   "execution_count": 229,
   "id": "e040d4df",
   "metadata": {},
   "outputs": [],
   "source": [
    "targets['id_number'] = result"
   ]
  },
  {
   "cell_type": "code",
   "execution_count": 230,
   "id": "1f130cd7",
   "metadata": {},
   "outputs": [
    {
     "data": {
      "text/html": [
       "<div>\n",
       "<style scoped>\n",
       "    .dataframe tbody tr th:only-of-type {\n",
       "        vertical-align: middle;\n",
       "    }\n",
       "\n",
       "    .dataframe tbody tr th {\n",
       "        vertical-align: top;\n",
       "    }\n",
       "\n",
       "    .dataframe thead th {\n",
       "        text-align: right;\n",
       "    }\n",
       "</style>\n",
       "<table border=\"1\" class=\"dataframe\">\n",
       "  <thead>\n",
       "    <tr style=\"text-align: right;\">\n",
       "      <th></th>\n",
       "      <th>band_gap</th>\n",
       "      <th>id_number</th>\n",
       "    </tr>\n",
       "    <tr>\n",
       "      <th>_id</th>\n",
       "      <th></th>\n",
       "      <th></th>\n",
       "    </tr>\n",
       "  </thead>\n",
       "  <tbody>\n",
       "    <tr>\n",
       "      <th>6141cf11b842c2e72e2f2d48</th>\n",
       "      <td>1.8068</td>\n",
       "      <td>2110</td>\n",
       "    </tr>\n",
       "    <tr>\n",
       "      <th>6141cf12b842c2e72e2f2d4a</th>\n",
       "      <td>1.8075</td>\n",
       "      <td>1535</td>\n",
       "    </tr>\n",
       "    <tr>\n",
       "      <th>6141cf13b842c2e72e2f2d4c</th>\n",
       "      <td>1.8101</td>\n",
       "      <td>312</td>\n",
       "    </tr>\n",
       "    <tr>\n",
       "      <th>6141cf15c819ca30b196b473</th>\n",
       "      <td>1.8001</td>\n",
       "      <td>1120</td>\n",
       "    </tr>\n",
       "    <tr>\n",
       "      <th>6141cf16b842c2e72e2f2d52</th>\n",
       "      <td>1.8098</td>\n",
       "      <td>60</td>\n",
       "    </tr>\n",
       "    <tr>\n",
       "      <th>...</th>\n",
       "      <td>...</td>\n",
       "      <td>...</td>\n",
       "    </tr>\n",
       "    <tr>\n",
       "      <th>6142a63b9cbada84a8676d73</th>\n",
       "      <td>1.8082</td>\n",
       "      <td>2173</td>\n",
       "    </tr>\n",
       "    <tr>\n",
       "      <th>6142c3bd9cbada84a8676d77</th>\n",
       "      <td>1.8103</td>\n",
       "      <td>595</td>\n",
       "    </tr>\n",
       "    <tr>\n",
       "      <th>6142cbb59cbada84a8676d7b</th>\n",
       "      <td>1.8081</td>\n",
       "      <td>1641</td>\n",
       "    </tr>\n",
       "    <tr>\n",
       "      <th>6142cca89cbada84a8676d7d</th>\n",
       "      <td>1.8061</td>\n",
       "      <td>1956</td>\n",
       "    </tr>\n",
       "    <tr>\n",
       "      <th>614304c19cbada84a8676d81</th>\n",
       "      <td>1.8060</td>\n",
       "      <td>704</td>\n",
       "    </tr>\n",
       "  </tbody>\n",
       "</table>\n",
       "<p>374 rows × 2 columns</p>\n",
       "</div>"
      ],
      "text/plain": [
       "                          band_gap  id_number\n",
       "_id                                          \n",
       "6141cf11b842c2e72e2f2d48    1.8068       2110\n",
       "6141cf12b842c2e72e2f2d4a    1.8075       1535\n",
       "6141cf13b842c2e72e2f2d4c    1.8101        312\n",
       "6141cf15c819ca30b196b473    1.8001       1120\n",
       "6141cf16b842c2e72e2f2d52    1.8098         60\n",
       "...                            ...        ...\n",
       "6142a63b9cbada84a8676d73    1.8082       2173\n",
       "6142c3bd9cbada84a8676d77    1.8103        595\n",
       "6142cbb59cbada84a8676d7b    1.8081       1641\n",
       "6142cca89cbada84a8676d7d    1.8061       1956\n",
       "614304c19cbada84a8676d81    1.8060        704\n",
       "\n",
       "[374 rows x 2 columns]"
      ]
     },
     "execution_count": 230,
     "metadata": {},
     "output_type": "execute_result"
    }
   ],
   "source": [
    "targets[targets.band_gap>1.7]"
   ]
  },
  {
   "cell_type": "code",
   "execution_count": null,
   "id": "1b8d5bf6",
   "metadata": {},
   "outputs": [],
   "source": []
  }
 ],
 "metadata": {
  "kernelspec": {
   "display_name": "crystal",
   "language": "python",
   "name": "crystal"
  },
  "language_info": {
   "codemirror_mode": {
    "name": "ipython",
    "version": 3
   },
   "file_extension": ".py",
   "mimetype": "text/x-python",
   "name": "python",
   "nbconvert_exporter": "python",
   "pygments_lexer": "ipython3",
   "version": "3.9.10"
  }
 },
 "nbformat": 4,
 "nbformat_minor": 5
}
