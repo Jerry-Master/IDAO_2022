{
 "cells": [
  {
   "cell_type": "code",
   "execution_count": 1,
   "id": "8c79c239",
   "metadata": {},
   "outputs": [],
   "source": [
    "import pandas as pd\n",
    "import numpy as np\n",
    "import matplotlib.pyplot as plt"
   ]
  },
  {
   "cell_type": "code",
   "execution_count": 3,
   "id": "fd426fa6",
   "metadata": {},
   "outputs": [],
   "source": [
    "filepath = 'dichalcogenides_public/'\n",
    "targets = pd.read_csv(filepath + 'targets.csv', index_col=0)"
   ]
  },
  {
   "cell_type": "code",
   "execution_count": 32,
   "id": "f2d86a79",
   "metadata": {},
   "outputs": [
    {
     "data": {
      "image/png": "[encoded data removed]",
      "text/plain": [
       "<Figure size 432x288 with 1 Axes>"
      ]
     },
     "metadata": {
      "needs_background": "light"
     },
     "output_type": "display_data"
    }
   ],
   "source": [
    "out = plt.hist(targets, bins=86)\n",
    "plt.show()"
   ]
  },
  {
   "cell_type": "code",
   "execution_count": 43,
   "id": "d26a1c9a",
   "metadata": {},
   "outputs": [
    {
     "data": {
      "text/plain": [
       "(1.1319046511627906, 1.1518662790697674)"
      ]
     },
     "execution_count": 43,
     "metadata": {},
     "output_type": "execute_result"
    }
   ],
   "source": [
    "(out[1][np.where(out[0]==692)[0][0]], out[1][np.where(out[0]==692)[0][0]+1])"
   ]
  },
  {
   "cell_type": "code",
   "execution_count": 51,
   "id": "70b4cd53",
   "metadata": {},
   "outputs": [
    {
     "data": {
      "text/plain": [
       "array([  1.,   1.,   0.,   1.,   0.,   1.,   0.,   2.,  24.,  81.,  90.,\n",
       "         9., 151., 366., 144., 239., 332.,  14.,   0.,   0.,   1.,   0.,\n",
       "         1.,   0.,   0.,   0.,   0.,   8.,  11.,   0.,   1.,   0.,   0.,\n",
       "         0.,   0.,   0.,   0.,   0.,   0.,   0.,   0.,   0.,  12.,  20.,\n",
       "         0.,  17.,   2.,  19.,   2.,  74., 196.,  35., 692.,   5.,  39.,\n",
       "         1.,   0.,   0.,   0.,   0.,   0.,   0.,   0.,   0.,   0.,   0.,\n",
       "         0.,   0.,   0.,   0.,   0.,   0.,   0.,   0.,   0.,   0.,   0.,\n",
       "         0.,   0.,   0.,   0.,   0.,   0.,   0.,   0., 374.])"
      ]
     },
     "execution_count": 51,
     "metadata": {},
     "output_type": "execute_result"
    }
   ],
   "source": [
    "out[0]"
   ]
  },
  {
   "cell_type": "code",
   "execution_count": 50,
   "id": "bc58a7cc",
   "metadata": {},
   "outputs": [
    {
     "data": {
      "text/plain": [
       "0.5947403910991234"
      ]
     },
     "execution_count": 50,
     "metadata": {},
     "output_type": "execute_result"
    }
   ],
   "source": [
    "(692+374+366+332) / out[0].sum()"
   ]
  },
  {
   "cell_type": "code",
   "execution_count": 126,
   "id": "ea3a5341",
   "metadata": {},
   "outputs": [],
   "source": [
    "import os\n",
    "\n",
    "filepath_train = '../Data/dichalcogenides_public/structures/'\n",
    "train_files = os.listdir(filepath_train)\n",
    "\n",
    "filepath_test = '../Data/dichalcogenides_private/structures/'\n",
    "test_files = os.listdir(filepath_test)\n",
    "\n",
    "targets = pd.read_csv('../Data/dichalcogenides_public/targets.csv', index_col=0)"
   ]
  },
  {
   "cell_type": "code",
   "execution_count": 118,
   "id": "5af1febc",
   "metadata": {},
   "outputs": [],
   "source": [
    "# Returns euclidean norm of 2D vector\n",
    "def norm(v):\n",
    "    return np.sqrt(v[0] * v[0] + v[1] * v[1])\n",
    "\n",
    "# Returns the vector joining l1[i,j] with the pixel in l2\n",
    "# that is closer and has the same value\n",
    "def movement_vector(l1, l2, i, j):\n",
    "    n, m = l2.shape\n",
    "    min_dist = 100\n",
    "    v = (-100,-100)\n",
    "    for ii in range(n):\n",
    "        for jj in range(m):\n",
    "            if (l1[i,j] == l2[ii,jj]):\n",
    "                n = norm((ii-i, jj-j))\n",
    "                if n == 0:\n",
    "                    return (ii-i, jj-j)\n",
    "                if n < min_dist:\n",
    "                    v = (ii-i, jj-j)\n",
    "                    min_dist = n\n",
    "    return v\n",
    "\n",
    "# Computes the distance between two layers as the sum of\n",
    "# the norm of the movement vectors of all pixels\n",
    "def dist_layer(l1, l2):\n",
    "    n, m = l1.shape\n",
    "    d = 0\n",
    "    for i in range(n):\n",
    "        for j in range(m):\n",
    "            v = movement_vector(l1, l2, i, j)\n",
    "            if v[0] == -100:\n",
    "                d += 15\n",
    "            else:\n",
    "                d += norm(v)\n",
    "    return d\n",
    "\n",
    "# Computes distance between l1 and l2 considering possible \n",
    "# transformation like rotations and symmetries\n",
    "def dist_layer_sim(l1, l2):\n",
    "    d = dist_layer(l1, l2)\n",
    "    d_sim_h = dist_layer(l1, l2[:,::-1])\n",
    "    d_sim_v = dist_layer(l1, l2[::-1,:])\n",
    "    d_sim = dist_layer(l1, l2[::-1,::-1])\n",
    "    d_rot_1 = dist_layer(l1, np.rot90(l2))\n",
    "    d_rot_2 = dist_layer(l1, np.rot90(l2, k=2))\n",
    "    d_rot_3 = dist_layer(l1, np.rot90(l2, k=3))\n",
    "    return np.min([d, d_sim_v, d_sim_h, d_sim, d_rot_1, d_rot_2, d_rot_3])\n",
    "\n",
    "# Computes distance between two crystals\n",
    "def dist(im1, im2):\n",
    "    d = dist_layer_sim(im1[:,:,1], im2[:,:,1])\n",
    "    \n",
    "    d00 = dist_layer_sim(im1[:,:,0], im2[:,:,0])\n",
    "    d02 = dist_layer_sim(im1[:,:,0], im2[:,:,2])\n",
    "    d20 = dist_layer_sim(im1[:,:,2], im2[:,:,0])\n",
    "    d22 = dist_layer_sim(im1[:,:,2], im2[:,:,2])\n",
    "    \n",
    "    d += min(d00+d22, d02+d20)\n",
    "    return d"
   ]
  },
  {
   "cell_type": "code",
   "execution_count": 139,
   "id": "d1a4485b",
   "metadata": {},
   "outputs": [
    {
     "name": "stdout",
     "output_type": "stream",
     "text": [
      "Crystal distance: 34.0\n",
      "Band gap distance: 0.8537\n",
      "CPU times: user 168 ms, sys: 4.16 ms, total: 173 ms\n",
      "Wall time: 185 ms\n"
     ]
    }
   ],
   "source": [
    "%%time\n",
    "k1, k2 = 0, 11\n",
    "\n",
    "im1 = np.load(filepath + 'images/' + train_files[k1][:-5] + '.npy')\n",
    "im2 = np.load(filepath + 'images/' + train_files[k2][:-5] + '.npy')\n",
    "\n",
    "print('Crystal distance:', dist(im1, im2))\n",
    "print('Band gap distance:', np.abs(targets.loc[train_files[k1][:-5]] - targets.loc[train_files[k2][:-5]])[0])"
   ]
  },
  {
   "cell_type": "code",
   "execution_count": 147,
   "id": "e3a9c516",
   "metadata": {},
   "outputs": [],
   "source": [
    "def abline(slope, intercept):\n",
    "    \"\"\"Plot a line from slope and intercept\"\"\"\n",
    "    axes = plt.gca()\n",
    "    x_vals = np.array(axes.get_xlim())\n",
    "    y_vals = intercept + slope * x_vals\n",
    "    plt.plot(x_vals, y_vals, '--')"
   ]
  },
  {
   "cell_type": "code",
   "execution_count": 168,
   "id": "0014aabc",
   "metadata": {},
   "outputs": [],
   "source": [
    "k1 = 500\n",
    "im1 = np.load(filepath + 'images/' + train_files[k1][:-5] + '.npy')\n",
    "crystal_dist = []\n",
    "band_gap_dist = []\n",
    "for k2 in range(100):\n",
    "    if k2 != k1: \n",
    "        im2 = np.load(filepath + 'images/' + train_files[k2][:-5] + '.npy')\n",
    "        crystal_dist.append(dist(im1, im2))\n",
    "        band_gap_dist.append(np.abs(targets.loc[train_files[k1][:-5]] - targets.loc[train_files[k2][:-5]])[0])"
   ]
  },
  {
   "cell_type": "code",
   "execution_count": 169,
   "id": "dd8926ca",
   "metadata": {},
   "outputs": [
    {
     "data": {
      "image/png": "[encoded data removed]",
      "text/plain": [
       "<Figure size 432x288 with 1 Axes>"
      ]
     },
     "metadata": {
      "needs_background": "light"
     },
     "output_type": "display_data"
    }
   ],
   "source": [
    "plt.scatter(crystal_dist, band_gap_dist, s=2)\n",
    "abline(0,0.02)\n",
    "plt.show()"
   ]
  },
  {
   "cell_type": "code",
   "execution_count": 170,
   "id": "125572c5",
   "metadata": {},
   "outputs": [
    {
     "data": {
      "text/plain": [
       "band_gap    1.8057\n",
       "Name: 6141cfb49cbada84a867684b, dtype: float64"
      ]
     },
     "execution_count": 170,
     "metadata": {},
     "output_type": "execute_result"
    }
   ],
   "source": [
    "targets.loc[train_files[k1][:-5]]"
   ]
  },
  {
   "cell_type": "code",
   "execution_count": null,
   "id": "380d068a",
   "metadata": {},
   "outputs": [],
   "source": []
  }
 ],
 "metadata": {
  "kernelspec": {
   "display_name": "crystal",
   "language": "python",
   "name": "crystal"
  },
  "language_info": {
   "codemirror_mode": {
    "name": "ipython",
    "version": 3
   },
   "file_extension": ".py",
   "mimetype": "text/x-python",
   "name": "python",
   "nbconvert_exporter": "python",
   "pygments_lexer": "ipython3",
   "version": "3.9.10"
  }
 },
 "nbformat": 4,
 "nbformat_minor": 5
}
