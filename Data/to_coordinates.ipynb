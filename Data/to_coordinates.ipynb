{
 "cells": [
  {
   "cell_type": "code",
   "execution_count": 4,
   "id": "b59bf736",
   "metadata": {},
   "outputs": [],
   "source": [
    "import numpy as np\n",
    "import matplotlib.pyplot as plt"
   ]
  },
  {
   "cell_type": "code",
   "execution_count": 41,
   "id": "bbe6bb7b",
   "metadata": {},
   "outputs": [],
   "source": [
    "filepath = 'dichalcogenides_public/'\n",
    "im1 = np.load(filepath + 'images/' + '6141d01e31cf3ef3d4a9edf0' + '.npy')"
   ]
  },
  {
   "cell_type": "code",
   "execution_count": 42,
   "id": "2b8ab8b1",
   "metadata": {},
   "outputs": [
    {
     "data": {
      "image/png": "[encoded data removed]",
      "text/plain": [
       "<Figure size 720x720 with 3 Axes>"
      ]
     },
     "metadata": {
      "needs_background": "light"
     },
     "output_type": "display_data"
    }
   ],
   "source": [
    "fig, ax = plt.subplots(1,3, figsize=(10,10))\n",
    "\n",
    "ax[0].imshow(im1[:,:,0])\n",
    "ax[1].imshow(im1[:,:,1])\n",
    "ax[2].imshow(im1[:,:,2])\n",
    "\n",
    "plt.show()"
   ]
  },
  {
   "cell_type": "code",
   "execution_count": 43,
   "id": "896ae91c",
   "metadata": {},
   "outputs": [],
   "source": [
    "def to_coords(im):\n",
    "    se = np.argwhere(im==34)\n",
    "    se = np.hstack((np.repeat([[34]], len(se), axis=0), se))\n",
    "    coords = se.copy()\n",
    "    \n",
    "    w = np.argwhere(im==74)\n",
    "    w = np.hstack((np.repeat([[74]], len(w), axis=0), w))\n",
    "    coords = np.vstack((coords,w))\n",
    "    \n",
    "    void = np.argwhere(im==0)\n",
    "    void = np.hstack((np.repeat([[0]], len(void), axis=0), void))\n",
    "    coords = np.vstack((coords, void))\n",
    "    return coords"
   ]
  },
  {
   "cell_type": "code",
   "execution_count": 44,
   "id": "fd2200f9",
   "metadata": {},
   "outputs": [
    {
     "data": {
      "text/plain": [
       "array([[34,  2,  2,  0],\n",
       "       [ 0,  1,  4,  0],\n",
       "       [ 0,  3,  7,  1]])"
      ]
     },
     "execution_count": 44,
     "metadata": {},
     "output_type": "execute_result"
    }
   ],
   "source": [
    "to_coords(im1)"
   ]
  },
  {
   "cell_type": "code",
   "execution_count": 45,
   "id": "ed00b28f",
   "metadata": {},
   "outputs": [],
   "source": [
    "import os\n",
    "\n",
    "filepath_train = 'dichalcogenides_public/images/'\n",
    "train_files = os.listdir(filepath_train)\n",
    "\n",
    "filepath_test = 'dichalcogenides_private/images/'\n",
    "test_files = os.listdir(filepath_test)"
   ]
  },
  {
   "cell_type": "code",
   "execution_count": 52,
   "id": "323a92e4",
   "metadata": {},
   "outputs": [],
   "source": [
    "!cd dichalcogenides_public; mkdir coordinates"
   ]
  },
  {
   "cell_type": "code",
   "execution_count": 58,
   "id": "fe9828c1",
   "metadata": {},
   "outputs": [
    {
     "data": {
      "application/vnd.jupyter.widget-view+json": {
       "model_id": "413c5f0bc5c749529e735424a60cba79",
       "version_major": 2,
       "version_minor": 0
      },
      "text/plain": [
       "  0%|          | 0/2966 [00:00<?, ?it/s]"
      ]
     },
     "metadata": {},
     "output_type": "display_data"
    }
   ],
   "source": [
    "from tqdm.notebook import tqdm\n",
    "\n",
    "filepath_save_train = 'dichalcogenides_public/coordinates/'\n",
    "train_coords = {}\n",
    "for file in tqdm(train_files):\n",
    "    img = np.load(filepath_train + file)\n",
    "    coords = to_coords(img)\n",
    "    train_coords[file[:-4]] = coords\n",
    "    np.save(filepath_save_train + file[:-4], coords)"
   ]
  },
  {
   "cell_type": "code",
   "execution_count": 54,
   "id": "b2c5bdf3",
   "metadata": {},
   "outputs": [],
   "source": [
    "!cd dichalcogenides_private; mkdir coordinates"
   ]
  },
  {
   "cell_type": "code",
   "execution_count": 59,
   "id": "368c2c69",
   "metadata": {},
   "outputs": [
    {
     "data": {
      "application/vnd.jupyter.widget-view+json": {
       "model_id": "c52151ba67434faeb5a811a4782425fb",
       "version_major": 2,
       "version_minor": 0
      },
      "text/plain": [
       "  0%|          | 0/2967 [00:00<?, ?it/s]"
      ]
     },
     "metadata": {},
     "output_type": "display_data"
    }
   ],
   "source": [
    "from tqdm.notebook import tqdm\n",
    "\n",
    "filepath_save_test = 'dichalcogenides_private/coordinates/'\n",
    "test_coords = {}\n",
    "for file in tqdm(test_files):\n",
    "    img = np.load(filepath_test + file[:-4] + '.npy')\n",
    "    coords = to_coords(img)\n",
    "    test_coords[file[:-4]] = coords\n",
    "    np.save(filepath_save_test + file[:-4], coords)"
   ]
  },
  {
   "cell_type": "code",
   "execution_count": 70,
   "id": "f30e507b",
   "metadata": {},
   "outputs": [],
   "source": [
    "num_coords_train = np.array([x.shape[0] for x in train_coords.values()])\n",
    "num_coords_test = np.array([x.shape[0] for x in test_coords.values()])"
   ]
  },
  {
   "cell_type": "code",
   "execution_count": 72,
   "id": "eb877fb3",
   "metadata": {},
   "outputs": [
    {
     "data": {
      "text/plain": [
       "1"
      ]
     },
     "execution_count": 72,
     "metadata": {},
     "output_type": "execute_result"
    }
   ],
   "source": [
    "num_coords_test.min()"
   ]
  },
  {
   "cell_type": "code",
   "execution_count": 95,
   "id": "be92aca1",
   "metadata": {},
   "outputs": [],
   "source": [
    "df = pd.DataFrame(data=[v.tolist() for v in train_coords.values()], index=train_coords.keys())"
   ]
  },
  {
   "cell_type": "code",
   "execution_count": 103,
   "id": "c7ac7141",
   "metadata": {},
   "outputs": [],
   "source": [
    "df.to_csv('dichalcogenides_public/coordinates_train.csv')"
   ]
  },
  {
   "cell_type": "code",
   "execution_count": 104,
   "id": "101b218b",
   "metadata": {},
   "outputs": [],
   "source": [
    "df = pd.DataFrame(data=[v.tolist() for v in test_coords.values()], index=test_coords.keys())"
   ]
  },
  {
   "cell_type": "code",
   "execution_count": 108,
   "id": "0543f484",
   "metadata": {},
   "outputs": [],
   "source": [
    "df.to_csv('dichalcogenides_private/coordinates_test.csv')"
   ]
  },
  {
   "cell_type": "code",
   "execution_count": null,
   "id": "cfd36149",
   "metadata": {},
   "outputs": [],
   "source": []
  }
 ],
 "metadata": {
  "kernelspec": {
   "display_name": "crystal",
   "language": "python",
   "name": "crystal"
  },
  "language_info": {
   "codemirror_mode": {
    "name": "ipython",
    "version": 3
   },
   "file_extension": ".py",
   "mimetype": "text/x-python",
   "name": "python",
   "nbconvert_exporter": "python",
   "pygments_lexer": "ipython3",
   "version": "3.9.10"
  }
 },
 "nbformat": 4,
 "nbformat_minor": 5
}
