{
 "cells": [
  {
   "cell_type": "code",
   "execution_count": 1,
   "id": "c12794d5",
   "metadata": {},
   "outputs": [],
   "source": [
    "import json\n",
    "from pymatgen.core import Lattice, Structure, Molecule"
   ]
  },
  {
   "cell_type": "code",
   "execution_count": 2,
   "id": "3d8f4c7e",
   "metadata": {},
   "outputs": [],
   "source": [
    "def read_pymatgen_dict(file):\n",
    "    with open(file, \"r\") as f:\n",
    "        d = json.load(f)\n",
    "    return Structure.from_dict(d)"
   ]
  },
  {
   "cell_type": "code",
   "execution_count": 4,
   "id": "40ab2efe",
   "metadata": {},
   "outputs": [],
   "source": [
    "import os\n",
    "\n",
    "filepath_train = 'dichalcogenides_public/structures/'\n",
    "train_files = os.listdir(filepath_train)\n",
    "\n",
    "filepath_test = 'dichalcogenides_private/structures/'\n",
    "test_files = os.listdir(filepath_test)"
   ]
  },
  {
   "cell_type": "code",
   "execution_count": 20,
   "id": "7e6c2433",
   "metadata": {},
   "outputs": [],
   "source": [
    "file = train_files[3]\n",
    "crystal = read_pymatgen_dict(filepath_train+file)"
   ]
  },
  {
   "cell_type": "code",
   "execution_count": 23,
   "id": "0a948617",
   "metadata": {},
   "outputs": [],
   "source": [
    "import numpy as np\n",
    "\n",
    "# Returns width, height and depth of crystal\n",
    "def get_grid(crystal):\n",
    "    crystal_d = crystal.as_dict()\n",
    "    abc = np.array([aux['abc'] for aux in crystal_d['sites']])\n",
    "    abc = abc.transpose()\n",
    "    a = set(abc[0])\n",
    "    b = set(abc[1])\n",
    "    c = set(abc[2])\n",
    "    \n",
    "    return len(a), len(b), len(c)"
   ]
  },
  {
   "cell_type": "code",
   "execution_count": 26,
   "id": "76a17124",
   "metadata": {},
   "outputs": [
    {
     "name": "stdout",
     "output_type": "stream",
     "text": [
      "They are all equal grids\n"
     ]
    }
   ],
   "source": [
    "equals = True\n",
    "for file in train_files:\n",
    "    crystal = read_pymatgen_dict(filepath_train+file)\n",
    "    w, h, d = get_grid(crystal)\n",
    "    if w != 16 or h != 16 or d != 3:\n",
    "        equals = False\n",
    "        break\n",
    "if equals:\n",
    "    print('They are all equal grids')\n",
    "else:\n",
    "    print('They are not of equal grids')"
   ]
  },
  {
   "cell_type": "code",
   "execution_count": 27,
   "id": "872cab62",
   "metadata": {},
   "outputs": [
    {
     "name": "stdout",
     "output_type": "stream",
     "text": [
      "They are all equal grids\n"
     ]
    }
   ],
   "source": [
    "equals = True\n",
    "for file in test_files:\n",
    "    crystal = read_pymatgen_dict(filepath_test+file)\n",
    "    w, h, d = get_grid(crystal)\n",
    "    if w != 16 or h != 16 or d != 3:\n",
    "        equals = False\n",
    "        break\n",
    "if equals:\n",
    "    print('They are all equal grids')\n",
    "else:\n",
    "    print('They are not of equal grids')"
   ]
  },
  {
   "cell_type": "code",
   "execution_count": null,
   "id": "9d1efe16",
   "metadata": {},
   "outputs": [],
   "source": []
  }
 ],
 "metadata": {
  "kernelspec": {
   "display_name": "crystal",
   "language": "python",
   "name": "crystal"
  },
  "language_info": {
   "codemirror_mode": {
    "name": "ipython",
    "version": 3
   },
   "file_extension": ".py",
   "mimetype": "text/x-python",
   "name": "python",
   "nbconvert_exporter": "python",
   "pygments_lexer": "ipython3",
   "version": "3.9.10"
  }
 },
 "nbformat": 4,
 "nbformat_minor": 5
}
