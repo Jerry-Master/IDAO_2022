{
 "cells": [
  {
   "cell_type": "code",
   "execution_count": 1,
   "id": "7b9c0b67",
   "metadata": {},
   "outputs": [],
   "source": [
    "import json\n",
    "from pymatgen.core import Lattice, Structure, Molecule"
   ]
  },
  {
   "cell_type": "code",
   "execution_count": 2,
   "id": "47918f26",
   "metadata": {},
   "outputs": [],
   "source": [
    "def read_pymatgen_dict(file):\n",
    "    with open(file, \"r\") as f:\n",
    "        d = json.load(f)\n",
    "    return Structure.from_dict(d)"
   ]
  },
  {
   "cell_type": "code",
   "execution_count": 3,
   "id": "6dd72a98",
   "metadata": {},
   "outputs": [],
   "source": [
    "import os\n",
    "\n",
    "filepath_train = 'dichalcogenides_public/structures/'\n",
    "train_files = os.listdir(filepath_train)\n",
    "\n",
    "filepath_test = 'dichalcogenides_private/structures/'\n",
    "test_files = os.listdir(filepath_test)"
   ]
  },
  {
   "cell_type": "code",
   "execution_count": 243,
   "id": "3e514714",
   "metadata": {},
   "outputs": [],
   "source": [
    "import numpy as np\n",
    "\n",
    "def to_coords(crystal, img):\n",
    "    atoms = crystal.as_dict()['sites']\n",
    "    defects = []\n",
    "    Z = {'Se': 34, 'W': 74}\n",
    "    for atom in atoms:\n",
    "        if atom['label'] == 'Se' or atom['label'] == 'W':\n",
    "            \n",
    "            defects.append([Z[atom['label']], *atom['abc']])\n",
    "    \n",
    "    void = np.argwhere(img==0)\n",
    "    \n",
    "    grid = np.array([x['abc'] for x in crystal.as_dict()['sites']])\n",
    "    z_map = sorted(list(set(grid[:,2])))\n",
    "    \n",
    "    aux_x = set(zip(grid[:,2],grid[:,0]))\n",
    "    aux_x = np.array(list(aux_x))\n",
    "    aux_y = set(zip(grid[:,2],grid[:,1]))\n",
    "    aux_y = np.array(list(aux_y))\n",
    "    \n",
    "    for void_atom in void:\n",
    "        z = z_map[void_atom[2]]\n",
    "        \n",
    "        x_map = sorted(aux_x[np.argwhere(aux_x[:,0] == z)][:,:,1].reshape((-1,)))\n",
    "        y_map = sorted(aux_y[np.argwhere(aux_y[:,0] == z)][:,:,1].reshape((-1,)))\n",
    "        \n",
    "        x = x_map[void_atom[0]]\n",
    "        y = y_map[void_atom[1]]\n",
    "        \n",
    "        defects.append([0,x,y,z])\n",
    "    return defects"
   ]
  },
  {
   "cell_type": "code",
   "execution_count": 245,
   "id": "b7e77d82",
   "metadata": {},
   "outputs": [],
   "source": [
    "!cd dichalcogenides_public; mkdir frac_coordinates"
   ]
  },
  {
   "cell_type": "code",
   "execution_count": 246,
   "id": "ef26763d",
   "metadata": {},
   "outputs": [
    {
     "data": {
      "application/vnd.jupyter.widget-view+json": {
       "model_id": "d030ef8e9b154b5e871355f25218f467",
       "version_major": 2,
       "version_minor": 0
      },
      "text/plain": [
       "  0%|          | 0/2966 [00:00<?, ?it/s]"
      ]
     },
     "metadata": {},
     "output_type": "display_data"
    }
   ],
   "source": [
    "from tqdm.notebook import tqdm\n",
    "\n",
    "filepath_save_train = 'dichalcogenides_public/frac_coordinates/'\n",
    "train_coords = {}\n",
    "for file in tqdm(train_files):\n",
    "    crystal = read_pymatgen_dict(filepath_train + file)\n",
    "    img = np.load(filepath_train[:-11] + 'images/' + file[:-5] + '.npy')\n",
    "    coords = to_coords(crystal, img)\n",
    "    train_coords[file[:-5]] = coords\n",
    "    np.save(filepath_save_train + file[:-5], coords)"
   ]
  },
  {
   "cell_type": "code",
   "execution_count": 247,
   "id": "c1c619cd",
   "metadata": {},
   "outputs": [],
   "source": [
    "!cd dichalcogenides_private; mkdir frac_coordinates"
   ]
  },
  {
   "cell_type": "code",
   "execution_count": 248,
   "id": "d9baa699",
   "metadata": {},
   "outputs": [
    {
     "data": {
      "application/vnd.jupyter.widget-view+json": {
       "model_id": "186623dcd6024f63a39e86c6efba5627",
       "version_major": 2,
       "version_minor": 0
      },
      "text/plain": [
       "  0%|          | 0/2967 [00:00<?, ?it/s]"
      ]
     },
     "metadata": {},
     "output_type": "display_data"
    }
   ],
   "source": [
    "from tqdm.notebook import tqdm\n",
    "\n",
    "filepath_save_test = 'dichalcogenides_private/frac_coordinates/'\n",
    "test_coords = {}\n",
    "for file in tqdm(test_files):\n",
    "    crystal = read_pymatgen_dict(filepath_test + file)\n",
    "    img = np.load(filepath_test[:-11] + 'images/' + file[:-5] + '.npy')\n",
    "    coords = to_coords(crystal, img)\n",
    "    test_coords[file[:-5]] = coords\n",
    "    np.save(filepath_save_test + file[:-5], coords)"
   ]
  },
  {
   "cell_type": "code",
   "execution_count": 223,
   "id": "6da4c010",
   "metadata": {},
   "outputs": [],
   "source": [
    "import pandas as pd"
   ]
  },
  {
   "cell_type": "code",
   "execution_count": 287,
   "id": "98de3df8",
   "metadata": {},
   "outputs": [],
   "source": [
    "train_coords_ = pd.DataFrame(train_coords.values(), index=train_coords.keys())\n",
    "test_coords_ = pd.DataFrame(test_coords.values(), index=test_coords.keys())"
   ]
  },
  {
   "cell_type": "code",
   "execution_count": 288,
   "id": "4a09f8d6",
   "metadata": {},
   "outputs": [],
   "source": [
    "def create_columns(x):\n",
    "    a = []\n",
    "    for xx in x:\n",
    "        if xx is not None:\n",
    "            a.extend(xx)\n",
    "        else:\n",
    "            a.extend([-1,-1,-1,-1])\n",
    "    return a"
   ]
  },
  {
   "cell_type": "code",
   "execution_count": 289,
   "id": "99c02a91",
   "metadata": {},
   "outputs": [],
   "source": [
    "columns = ['Z1', 'x1', 'y1', 'z1', 'Z2', 'x2', 'y2', 'z2', 'Z3', 'x3', 'y3', 'z3']\n",
    "\n",
    "train_coords_final = pd.DataFrame(np.array(list(train_coords_.apply(create_columns, axis=1).to_numpy())), \n",
    "                            columns=columns, index=train_coords_.index)\n",
    "test_coords_final = pd.DataFrame(np.array(list(test_coords_.apply(create_columns, axis=1).to_numpy())), \n",
    "                           columns=columns, index=test_coords_.index)"
   ]
  },
  {
   "cell_type": "code",
   "execution_count": 292,
   "id": "0027c7fa",
   "metadata": {},
   "outputs": [],
   "source": [
    "train_coords_final.to_csv('frac_coordinates_train.csv')\n",
    "test_coords_final.to_csv('frac_coordinates_test.csv')"
   ]
  },
  {
   "cell_type": "code",
   "execution_count": null,
   "id": "e7c60a9a",
   "metadata": {},
   "outputs": [],
   "source": []
  }
 ],
 "metadata": {
  "kernelspec": {
   "display_name": "crystal",
   "language": "python",
   "name": "crystal"
  },
  "language_info": {
   "codemirror_mode": {
    "name": "ipython",
    "version": 3
   },
   "file_extension": ".py",
   "mimetype": "text/x-python",
   "name": "python",
   "nbconvert_exporter": "python",
   "pygments_lexer": "ipython3",
   "version": "3.9.10"
  }
 },
 "nbformat": 4,
 "nbformat_minor": 5
}
